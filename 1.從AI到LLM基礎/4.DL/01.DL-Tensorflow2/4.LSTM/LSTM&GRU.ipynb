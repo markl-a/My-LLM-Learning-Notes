{
  "nbformat": 4,
  "nbformat_minor": 0,
  "metadata": {
    "colab": {
      "provenance": [],
      "toc_visible": true
    },
    "kernelspec": {
      "name": "python3",
      "display_name": "Python 3"
    },
    "language_info": {
      "name": "python"
    }
  },
  "cells": [
    {
      "cell_type": "markdown",
      "source": [
        "# **LSTM原理跟算法**\n",
        "\n",
        "\n",
        "<br>\n",
        "  <a href=\"https://colab.research.google.com/drive/1zkQ45hUQu8dxuNtvMj0mrsgLlhh7dsLy?usp=sharing\"><img src=\"https://colab.research.google.com/assets/colab-badge.svg\" alt=\"Open In Colab\"></a>\n",
        "<br>\n",
        "\n"
      ],
      "metadata": {
        "id": "HGgmoZU0wIuy"
      }
    },
    {
      "cell_type": "markdown",
      "source": [
        "## **LSTM原理**\n",
        "LSTM（長短期記憶網絡）是一種特殊類型的循環神經網絡（RNN），專門設計用於解決長序列中的長期依賴問題。傳統的RNN在處理長序列時會遇到梯度消失或梯度爆炸的問題，這使得網絡難以學習和記憶遠距離的依賴關係。LSTM通過引入一種叫做“門”的機制來解決這個問題。\n",
        "\n",
        "* LSTM的組成部分\n",
        "\n",
        "  一個LSTM單元主要由以下幾個部分組成：\n",
        "\n",
        "  * 遺忘門（Forget Gate）: 決定哪些信息從單元狀態（Cell State）中丟棄。\n",
        "  * 輸入門（Input Gate）: 決定哪些新信息將存儲在單元狀態中。\n",
        "  * 單元狀態（Cell State）: LSTM的“記憶”部分，存儲了過去的信息。\n",
        "  * 輸出門（Output Gate）: 根據單元狀態和當前輸入，決定輸出什麼信息。\n",
        "\n",
        "* LSTM的工作原理\n",
        "\n",
        "  1. 遺忘門: LSTM首先決定要從單元狀態中丟棄哪些信息。這是通過一個sigmoid層完成的，它查看當前輸入和上一個隱藏狀態，並輸出一個在0到1之間的數值給每個在單元狀態中的數字。1表示“完全保留”，0表示“完全丟棄”。\n",
        "  \n",
        "  \\begin{gather*}f_t​ =σ(W_f​⋅[h_{t−1}​ ,x_t​ ]+b_f​)\\end{gather*}\n",
        "  \n",
        "  2. 輸入門: LSTM然後決定將哪些新信息存儲在單元狀態中。這分為兩步。首先，一個sigmoid層決定哪些值將更新。然後，一個tanh層創建一個新的候選值向量，可能會添加到狀態中。\n",
        "  \n",
        "  \\begin{gather*}i _t​ =σ(W_i​ ⋅[h_{t−1}​ ,x_t​ ]+b_i​)\\end{gather*}\n",
        "  \n",
        "  \\begin{gather*}\\tilde{C_t​} =tanh(W_C​ ⋅[h_{t−1}​ ,x_t​ ]+b_C​ )\\end{gather*}\n",
        "\n",
        "  3. 更新單元狀態: 現在，可以使用遺忘門的輸出和輸入門的輸出來更新單元狀態。\n",
        "  \n",
        "  \\begin{gather*}C_t​ =f_t​ ∗C_{t−1}​ +i_t​ ∗ \\tilde{C_t} \\end{gather*}\n",
        "  \n",
        "  4. 輸出門: 最後，決定輸出什麼值。輸出依賴於單元狀態，但是是一個過濾後的版本。首先，運行一個sigmoid層來決定單元狀態的哪個部分將輸出。然後，將單元狀態通過tanh（將值推到-1和1之間）並將它與sigmoid門的輸出相乘，以便只輸出決定輸出的部分。\n",
        "  \n",
        "  \\begin{gather*}o_t​ =σ(W_o​ ⋅[h_{t−1}​ ,x_t​ ]+b_o​ )\\end{gather*}\n",
        "  \n",
        "  \\begin{gather*}h_t​ =o_t​ ∗tan_h(C_t​ )\\end{gather*}\n",
        "  \n",
        "  這些步驟共同使LSTM能夠在長序列中有效地學習長期依賴。"
      ],
      "metadata": {
        "id": "nofhSyGZwSEs"
      }
    },
    {
      "cell_type": "markdown",
      "source": [
        "## **LSTM 算法 Tensorflow 實現**"
      ],
      "metadata": {
        "id": "pb7km4-PyI73"
      }
    },
    {
      "cell_type": "code",
      "source": [
        "import numpy as np\n",
        "import pandas as pd\n",
        "import requests\n",
        "import matplotlib.pyplot as plt\n",
        "from sklearn.preprocessing import MinMaxScaler\n",
        "from sklearn import preprocessing\n",
        "from sklearn.metrics import mean_squared_error\n",
        "from tensorflow.keras.models import Sequential\n",
        "from tensorflow.keras.layers import Dense, LSTM\n",
        "import math\n",
        "\n",
        "# 設定下載的網址以及文件名\n",
        "baseURL = \"https://github.com/markl-a/ML-demos/raw/main/4.LSTM/\"\n",
        "fileNames = [\"prices-split-adjusted.csv\"]\n",
        "\n",
        "# 根據文件輪詢並下載\n",
        "for fileName in fileNames:\n",
        "    # 創照完整連結\n",
        "    fullURL = baseURL + fileName\n",
        "\n",
        "    # 傳送 HTTP 的 request 並將內容轉到 response\n",
        "    response = requests.get(fullURL)\n",
        "\n",
        "    # 檢查是否有成功傳輸\n",
        "    if response.status_code == 200:\n",
        "        # 在colab虛擬機存下檔案\n",
        "        with open(fileName, 'wb') as file:\n",
        "            file.write(response.content)\n",
        "        print(f\"{fileName} has been downloaded successfully.\")\n",
        "    else:\n",
        "        print(f\"Failed to download {fileName}.\")"
      ],
      "metadata": {
        "colab": {
          "base_uri": "https://localhost:8080/"
        },
        "id": "bgWyemvaoFeV",
        "outputId": "16aeb005-fad0-49e1-a412-270d3643473c"
      },
      "execution_count": 14,
      "outputs": [
        {
          "output_type": "stream",
          "name": "stdout",
          "text": [
            "prices-split-adjusted.csv has been downloaded successfully.\n"
          ]
        }
      ]
    },
    {
      "cell_type": "code",
      "source": [
        "# 讀取CSV文件並選擇只有GOOG股票的數據\n",
        "dataDf = pd.read_csv(\"prices-split-adjusted.csv\", index_col=0)\n",
        "dataDf = dataDf[dataDf.symbol == 'GOOG']\n",
        "\n",
        "# 移除'symbol'列並將索引轉換為datetime格式\n",
        "dataDf.drop(['symbol'], axis=1, inplace=True)\n",
        "dataDf['date'] = pd.to_datetime(dataDf.index)"
      ],
      "metadata": {
        "id": "6RGpj4R0y27S"
      },
      "execution_count": 15,
      "outputs": []
    },
    {
      "cell_type": "code",
      "source": [
        "# LSTM 對輸入數據的數值非常敏感，特別是當使用 sigmoid（默認）或 tanh 激活函數時。\n",
        "# 把資料重新調整到 0 到 1 的範圍之間（也稱為正規化或歸一化(0~1)）是一個好的方法。\n",
        "minMaxScaler = preprocessing.MinMaxScaler(feature_range=(0, 1))\n",
        "dataSet = minMaxScaler.fit_transform(dataDf['close'].values.reshape(-1, 1))"
      ],
      "metadata": {
        "id": "HLzatRl0zcyH"
      },
      "execution_count": 16,
      "outputs": []
    },
    {
      "cell_type": "code",
      "source": [
        "# 把資料分成訓練跟測試集\n",
        "trainSize = int(len(dataSet) * 0.7)\n",
        "testSize = len(dataSet) - trainSize\n",
        "trainData, testData = dataSet[0:trainSize, :], dataSet[trainSize:len(dataSet), :]\n",
        "print(len(trainData), len(testData))"
      ],
      "metadata": {
        "colab": {
          "base_uri": "https://localhost:8080/"
        },
        "id": "iLSXUVRD0DDx",
        "outputId": "a5c9efb2-d4b8-478d-a765-616600532577"
      },
      "execution_count": 17,
      "outputs": [
        {
          "output_type": "stream",
          "name": "stdout",
          "text": [
            "1233 529\n"
          ]
        }
      ]
    },
    {
      "cell_type": "code",
      "source": [
        "# 我將回望日期設為15天，這是用作輸入變數以預測下一個時間段的先前時間步數。\n",
        "# 將一組值轉換為數據集矩陣。\n",
        "def createDataset(dataSet, lookBack=15):\n",
        "    dataX, dataY = [], []\n",
        "    for i in range(len(dataSet) - lookBack - 1):\n",
        "        a = dataSet[i:(i + lookBack), 0]\n",
        "        dataX.append(a)\n",
        "        dataY.append(dataSet[i + lookBack, 0])\n",
        "    return np.array(dataX), np.array(dataY)\n",
        "\n",
        "xTrain, yTrain = createDataset(trainData, lookBack=15)\n",
        "xTest, yTest = createDataset(testData, lookBack=15)\n"
      ],
      "metadata": {
        "id": "DaMOUh6T0QFX"
      },
      "execution_count": 18,
      "outputs": []
    },
    {
      "cell_type": "code",
      "source": [
        "# LSTM 網絡期望輸入數據（X）以特定的數組結構提供，形式為：[樣本數，時間步長，特徵數]。\n",
        "# 目前，這些數據的形式是：[樣本數，特徵數]，而我們將問題框定為每個樣本一個時間步長。我們可以使用 numpy.reshape()\n",
        "# 將準備好的訓練和測試輸入數據轉換為預期的結構，如下所示：\n",
        "xTrain = np.reshape(xTrain, (xTrain.shape[0], 1, xTrain.shape[1]))\n",
        "xTest = np.reshape(xTest, (xTest.shape[0], 1, xTest.shape[1]))\n"
      ],
      "metadata": {
        "id": "t-_FaHdq07J3"
      },
      "execution_count": 20,
      "outputs": []
    },
    {
      "cell_type": "markdown",
      "source": [
        "此LSTM網絡具有一個可見層，其中包含1個輸入，一個隱藏層包含20個LSTM塊或神經元，以及一個輸出層用於進行15值預測。LSTM塊使用默認的Sigmoid激活函數。網絡訓練進行了20個訓練週期（epochs），並使用了批量大小（batch size）為1。"
      ],
      "metadata": {
        "id": "gfWHLQvz1egI"
      }
    },
    {
      "cell_type": "code",
      "source": [
        "# 建立跟訓練 LSTM 網路\n",
        "# 超參數設定\n",
        "lookBack = 15\n",
        "epochs = 20\n",
        "batchSize = 1\n",
        "\n",
        "# 建立 LSTM 模型\n",
        "model = Sequential([\n",
        "    LSTM(20, input_shape=(1, lookBack)),\n",
        "    Dense(1)\n",
        "])\n",
        "\n",
        "# 編譯模型\n",
        "model.compile(loss='mean_squared_error', optimizer='adam')\n",
        "\n",
        "# 訓練模型\n",
        "model.fit(xTrain, yTrain, epochs=epochs, batch_size=batchSize, verbose=1)"
      ],
      "metadata": {
        "colab": {
          "base_uri": "https://localhost:8080/"
        },
        "id": "B-WjItps1bTA",
        "outputId": "8dc5930a-abb5-4d28-c005-bd9761a3d496"
      },
      "execution_count": 21,
      "outputs": [
        {
          "output_type": "stream",
          "name": "stdout",
          "text": [
            "Epoch 1/20\n",
            "1217/1217 [==============================] - 3s 2ms/step - loss: 0.0015\n",
            "Epoch 2/20\n",
            "1217/1217 [==============================] - 2s 2ms/step - loss: 4.1920e-04\n",
            "Epoch 3/20\n",
            "1217/1217 [==============================] - 2s 2ms/step - loss: 3.1625e-04\n",
            "Epoch 4/20\n",
            "1217/1217 [==============================] - 2s 2ms/step - loss: 2.4022e-04\n",
            "Epoch 5/20\n",
            "1217/1217 [==============================] - 2s 2ms/step - loss: 2.3027e-04\n",
            "Epoch 6/20\n",
            "1217/1217 [==============================] - 2s 2ms/step - loss: 2.3037e-04\n",
            "Epoch 7/20\n",
            "1217/1217 [==============================] - 2s 2ms/step - loss: 2.1094e-04\n",
            "Epoch 8/20\n",
            "1217/1217 [==============================] - 2s 2ms/step - loss: 2.0287e-04\n",
            "Epoch 9/20\n",
            "1217/1217 [==============================] - 2s 2ms/step - loss: 2.0949e-04\n",
            "Epoch 10/20\n",
            "1217/1217 [==============================] - 2s 2ms/step - loss: 2.0608e-04\n",
            "Epoch 11/20\n",
            "1217/1217 [==============================] - 2s 2ms/step - loss: 1.9215e-04\n",
            "Epoch 12/20\n",
            "1217/1217 [==============================] - 2s 2ms/step - loss: 1.8994e-04\n",
            "Epoch 13/20\n",
            "1217/1217 [==============================] - 4s 3ms/step - loss: 1.7810e-04\n",
            "Epoch 14/20\n",
            "1217/1217 [==============================] - 2s 2ms/step - loss: 1.7385e-04\n",
            "Epoch 15/20\n",
            "1217/1217 [==============================] - 2s 2ms/step - loss: 1.8160e-04\n",
            "Epoch 16/20\n",
            "1217/1217 [==============================] - 2s 2ms/step - loss: 1.6998e-04\n",
            "Epoch 17/20\n",
            "1217/1217 [==============================] - 2s 2ms/step - loss: 1.7579e-04\n",
            "Epoch 18/20\n",
            "1217/1217 [==============================] - 3s 2ms/step - loss: 1.8290e-04\n",
            "Epoch 19/20\n",
            "1217/1217 [==============================] - 2s 2ms/step - loss: 1.5547e-04\n",
            "Epoch 20/20\n",
            "1217/1217 [==============================] - 4s 3ms/step - loss: 1.6963e-04\n"
          ]
        },
        {
          "output_type": "execute_result",
          "data": {
            "text/plain": [
              "<keras.src.callbacks.History at 0x7943b5444040>"
            ]
          },
          "metadata": {},
          "execution_count": 21
        }
      ]
    },
    {
      "cell_type": "code",
      "source": [
        "trainPredict = model.predict(xTrain)\n",
        "testPredict = model.predict(xTest)\n",
        "# 逆變換預測\n",
        "trainPredict = minMaxScaler.inverse_transform(trainPredict)\n",
        "trainY = minMaxScaler.inverse_transform([yTrain])\n",
        "testPredict = minMaxScaler.inverse_transform(testPredict)\n",
        "testY = minMaxScaler.inverse_transform([yTest])\n",
        "# 計算均方根誤差\n",
        "trainScore = math.sqrt(mean_squared_error(trainY[0], trainPredict[:, 0]))\n",
        "print(f'Train Score: {trainScore:.2f} RMSE')\n",
        "testScore = math.sqrt(mean_squared_error(testY[0], testPredict[:, 0]))\n",
        "print(f'Test Score: {testScore:.2f} RMSE')"
      ],
      "metadata": {
        "colab": {
          "base_uri": "https://localhost:8080/"
        },
        "id": "sf_zqsAl10Od",
        "outputId": "fb6a7055-fcce-4231-bbc7-7e668d06f75f"
      },
      "execution_count": 22,
      "outputs": [
        {
          "output_type": "stream",
          "name": "stdout",
          "text": [
            "39/39 [==============================] - 0s 1ms/step\n",
            "17/17 [==============================] - 0s 2ms/step\n",
            "Train Score: 7.30 RMSE\n",
            "Test Score: 37.68 RMSE\n"
          ]
        }
      ]
    },
    {
      "cell_type": "code",
      "source": [
        "# 為繪圖而調整訓練預測\n",
        "lookBack = 15\n",
        "trainPredictPlot = np.empty_like(dataSet)\n",
        "trainPredictPlot[:, :] = np.nan\n",
        "trainPredictPlot[lookBack:len(trainPredict) + lookBack, :] = trainPredict\n",
        "# 為繪圖而調整測試預測\n",
        "testPredictPlot = np.empty_like(dataSet)\n",
        "testPredictPlot[:, :] = np.nan\n",
        "testPredictPlot[len(trainPredict) + (lookBack * 2) + 1:len(dataSet) - 1, :] = testPredict\n",
        "# 畫出 baseline 跟預測\n",
        "plt.plot(minMaxScaler.inverse_transform(dataSet))\n",
        "plt.plot(trainPredictPlot)\n",
        "plt.plot(testPredictPlot)\n",
        "plt.show()"
      ],
      "metadata": {
        "colab": {
          "base_uri": "https://localhost:8080/",
          "height": 430
        },
        "id": "Xfk6MfBF1-C6",
        "outputId": "0140222d-0207-4cc9-a108-15c24d24865e"
      },
      "execution_count": 23,
      "outputs": [
        {
          "output_type": "display_data",
          "data": {
            "text/plain": [
              "<Figure size 640x480 with 1 Axes>"
            ],
            "image/png": "[encoded data removed]"
          },
          "metadata": {}
        }
      ]
    },
    {
      "cell_type": "markdown",
      "source": [
        "# **GRU原理跟算法**\n"
      ],
      "metadata": {
        "id": "PW7GhRT7I3ni"
      }
    },
    {
      "cell_type": "markdown",
      "source": [
        "## **GRU原理**\n",
        "GRU（門控遞歸單元，Gated Recurrent Unit）是一種用於遞歸神經網絡（RNN）的特殊類型的激活單元。GRU 是由 Cho 等人在 2014 年提出的，旨在解決傳統 RNN 在處理長序列時面臨的梯度消失和梯度爆炸問題。\n",
        "\n",
        "### 基本結構\n",
        "\n",
        "GRU 的基本結構包括兩個門：\n",
        "\n",
        "1. 更新門（Update Gate）：決定何時更新隱藏狀態。\n",
        "2. 重置門（Reset Gate）：決定隱藏狀態在多大程度上應該保留之前的信息。\n",
        "\n",
        "### 數學公式\n",
        "\n",
        "以下是 GRU 的數學表示：\n",
        "\n",
        "* 更新門：$z_t =σ(W_z ⋅[h_{t−1},x_t])$\n",
        "\n",
        "* 重置門：$r_t =σ(W_r ⋅[h _{t−1},x _t])$\n",
        "\n",
        "* 候選隱藏狀態：$\\tilde{h_t}=tanh(W⋅[r_t∗h_{t−1},x_t ])$\n",
        "\n",
        "* 最終隱藏狀態：$h_t=(1−z_t)∗h_{t−1}+z_t∗\\tilde{h_t}$\n",
        "\n",
        "其中，σ 是 Sigmoid 激活函數，tanh 是雙曲正切激活函數，∗ 表示逐元素乘法。\n",
        "\n",
        "### 工作原理\n",
        "\n",
        "1. 更新門：決定了當前輸入和過去的隱藏狀態應該在多大程度上影響當前的隱藏狀態。\n",
        "2. 重置門：用於決定過去的隱藏狀態在多大程度上應該與當前的輸入交互。\n",
        "3. 候選隱藏狀態：是基於當前輸入和過去隱藏狀態（經過重置門調整）的一個新的隱藏狀態。\n",
        "4. 最終隱藏狀態：是基於更新門、候選隱藏狀態和過去隱藏狀態的一個加權平均。\n",
        "\n",
        "### 優點\n",
        "\n",
        "* 相對於傳統的 RNN，GRU 能更好地捕捉長距離依賴。\n",
        "* 計算複雜性較 LSTM 稍低，因為它只有兩個門。\n",
        "\n",
        "### 應用場景\n",
        "\n",
        "GRU 常用於自然語言處理（NLP）、時間序列分析、語音識別等任務。\n",
        "\n",
        "## LSTM 和 GRU的主要區別\n",
        "\n",
        "### 門的數量：\n",
        "\n",
        "* LSTM 有三個門：遺忘門、輸入門和輸出門。\n",
        "* GRU 只有兩個門：更新門和重置門。\n",
        "\n",
        "### 隱藏狀態和單元狀態：\n",
        "\n",
        "* LSTM 有兩種狀態：隱藏狀態和單元狀態。\n",
        "* GRU 只有一種狀態：隱藏狀態。\n",
        "\n",
        "### 計算複雜性：\n",
        "\n",
        "* LSTM 的結構較為複雜，因此計算成本較高。\n",
        "* GRU 的結構較為簡單，因此計算成本較低。\n",
        "\n",
        "### 參數數量：\n",
        "\n",
        "* LSTM 有更多的參數，因此需要更多的訓練時間。\n",
        "* GRU 有較少的參數，因此訓練速度可能較快。\n",
        "\n",
        "### 長距離依賴：\n",
        "\n",
        "* LSTM 通常更擅長捕捉長距離依賴。\n",
        "* GRU 在某些情況下可能無法捕捉到非常長的依賴。\n",
        "\n",
        "### 應用場景：\n",
        "\n",
        "* LSTM 常用於更複雜的序列預測問題。\n",
        "* GRU 則常用於較短的序列或者計算資源有限的情況。\n",
        "\n",
        "### 訓練效率：\n",
        "\n",
        "* 由於 GRU 有較少的參數和簡單的結構，它通常更容易訓練。\n",
        "* LSTM 由於有更多的參數和複雜的結構，可能需要更多的訓練時間。"
      ],
      "metadata": {
        "id": "cuM_555lJEhW"
      }
    },
    {
      "cell_type": "markdown",
      "source": [
        "## **GRU 算法 Tensorflow 實現**"
      ],
      "metadata": {
        "id": "pcqKoN6PJI4p"
      }
    },
    {
      "cell_type": "code",
      "source": [
        "import numpy as np  # 引入NumPy庫用於數學運算\n",
        "import pandas as pd  # 引入Pandas庫用於數據處理\n",
        "import requests  # 引入requests庫用於HTTP請求\n",
        "import matplotlib.pyplot as plt  # 引入Matplotlib庫用於繪圖\n",
        "from sklearn.preprocessing import MinMaxScaler  # 引入MinMaxScaler用於數據標準化\n",
        "from sklearn.metrics import mean_squared_error  # 引入mean_squared_error用於計算MSE\n",
        "from tensorflow.keras.models import Sequential  # 引入Sequential模型\n",
        "from tensorflow.keras.layers import Dense, GRU, Dropout  # 引入Dense、GRU和Dropout層\n",
        "from tensorflow.keras.callbacks import EarlyStopping  # 引入EarlyStopping用於提前停止訓練\n",
        "import math  # 引入math庫用於數學運算\n",
        "\n",
        "# 下載文件的函數\n",
        "def downloadFile(baseUrl, fileName):\n",
        "    fullUrl = f\"{baseUrl}{fileName}\"\n",
        "    response = requests.get(fullUrl)\n",
        "    if response.status_code == 200:\n",
        "        with open(fileName, 'wb') as f:\n",
        "            f.write(response.content)\n",
        "        print(f\"{fileName} has been downloaded successfully.\")\n",
        "    else:\n",
        "        print(f\"Failed to download {fileName}.\")\n",
        "\n",
        "# 創建數據集的函數\n",
        "def createDataset(dataset, lookBack=15):\n",
        "    dataX, dataY = [], []\n",
        "    for i in range(len(dataset) - lookBack - 1):\n",
        "        dataX.append(dataset[i:i + lookBack, 0])\n",
        "        dataY.append(dataset[i + lookBack, 0])\n",
        "    return np.array(dataX), np.array(dataY)\n",
        "\n",
        "# 下載文件\n",
        "baseUrl = \"https://github.com/markl-a/ML-demos/raw/main/4.LSTM/\"\n",
        "fileNames = [\"prices-split-adjusted.csv\"]\n",
        "for fileName in fileNames:\n",
        "    downloadFile(baseUrl, fileName)\n",
        "\n",
        "# 數據預處理\n",
        "dataDf = pd.read_csv(\"prices-split-adjusted.csv\", index_col=0)\n",
        "dataDf = dataDf[dataDf.symbol == 'GOOG'].drop(['symbol'], axis=1)\n",
        "dataDf['date'] = pd.to_datetime(dataDf.index)\n",
        "\n",
        "# 數據標準化\n",
        "scaler = MinMaxScaler(feature_range=(0, 1))\n",
        "dataset = scaler.fit_transform(dataDf['close'].values.reshape(-1, 1))\n",
        "\n",
        "# 訓練測試集分割\n",
        "trainSize = int(len(dataset) * 0.7)\n",
        "train, test = dataset[:trainSize], dataset[trainSize:]\n",
        "\n",
        "# 創建數據集\n",
        "xTrain, yTrain = createDataset(train)\n",
        "xTest, yTest = createDataset(test)\n",
        "xTrain = np.reshape(xTrain, (xTrain.shape[0], 1, xTrain.shape[1]))\n",
        "xTest = np.reshape(xTest, (xTest.shape[0], 1, xTest.shape[1]))\n",
        "\n",
        "# 建立和訓練GRU模型\n",
        "model = Sequential([\n",
        "    GRU(20, input_shape=(1, 15), recurrent_dropout=0.2),\n",
        "    Dropout(0.2),\n",
        "    Dense(1)\n",
        "])\n",
        "model.compile(loss='mean_squared_error', optimizer='adam')\n",
        "earlyStop = EarlyStopping(monitor='val_loss', patience=10)\n",
        "model.fit(xTrain, yTrain, epochs=100, batch_size=1, verbose=1, validation_split=0.2, callbacks=[earlyStop])\n",
        "\n",
        "# 預測和評估\n",
        "trainPredict = model.predict(xTrain)\n",
        "testPredict = model.predict(xTest)\n",
        "trainPredict = scaler.inverse_transform(trainPredict)\n",
        "testPredict = scaler.inverse_transform(testPredict)\n",
        "\n",
        "trainScore = math.sqrt(mean_squared_error(yTrain, trainPredict[:, 0]))\n",
        "testScore = math.sqrt(mean_squared_error(yTest, testPredict[:, 0]))\n",
        "print(f'Train Score: {trainScore:.2f} RMSE')\n",
        "print(f'Test Score: {testScore:.2f} RMSE')\n",
        "\n",
        "# 繪圖\n",
        "lookBack = 15\n",
        "trainPredictPlot = np.empty_like(dataset)\n",
        "trainPredictPlot[:, :] = np.nan\n",
        "trainPredictPlot[lookBack:len(trainPredict) + lookBack, :] = trainPredict\n",
        "\n",
        "testPredictPlot = np.empty_like(dataset)\n",
        "testPredictPlot[:, :] = np.nan\n",
        "testPredictPlot[len(trainPredict) + (lookBack * 2) + 1:len(dataset) - 1, :] = testPredict\n",
        "\n",
        "plt.plot(scaler.inverse_transform(dataset), label='Original Data')\n",
        "plt.plot(trainPredictPlot, label='Train Prediction')\n",
        "plt.plot(testPredictPlot, label='Test Prediction')\n",
        "plt.legend()\n",
        "plt.show()\n"
      ],
      "metadata": {
        "colab": {
          "base_uri": "https://localhost:8080/",
          "height": 1000
        },
        "id": "kcGb3NxgTc8s",
        "outputId": "54f75424-9c13-4f9d-f98c-0b695399216f"
      },
      "execution_count": 13,
      "outputs": [
        {
          "output_type": "stream",
          "name": "stdout",
          "text": [
            "prices-split-adjusted.csv has been downloaded successfully.\n",
            "Epoch 1/100\n",
            "973/973 [==============================] - 4s 2ms/step - loss: 0.0023 - val_loss: 0.0012\n",
            "Epoch 2/100\n",
            "973/973 [==============================] - 3s 3ms/step - loss: 9.8697e-04 - val_loss: 5.5903e-04\n",
            "Epoch 3/100\n",
            "973/973 [==============================] - 2s 2ms/step - loss: 6.4775e-04 - val_loss: 4.3681e-04\n",
            "Epoch 4/100\n",
            "973/973 [==============================] - 2s 2ms/step - loss: 6.6024e-04 - val_loss: 6.1004e-04\n",
            "Epoch 5/100\n",
            "973/973 [==============================] - 2s 2ms/step - loss: 5.1995e-04 - val_loss: 2.6691e-04\n",
            "Epoch 6/100\n",
            "973/973 [==============================] - 2s 2ms/step - loss: 5.1206e-04 - val_loss: 2.8203e-04\n",
            "Epoch 7/100\n",
            "973/973 [==============================] - 4s 4ms/step - loss: 4.9489e-04 - val_loss: 0.0013\n",
            "Epoch 8/100\n",
            "973/973 [==============================] - 2s 2ms/step - loss: 5.2046e-04 - val_loss: 2.2174e-04\n",
            "Epoch 9/100\n",
            "973/973 [==============================] - 2s 2ms/step - loss: 4.4804e-04 - val_loss: 9.0320e-04\n",
            "Epoch 10/100\n",
            "973/973 [==============================] - 2s 2ms/step - loss: 4.2560e-04 - val_loss: 0.0012\n",
            "Epoch 11/100\n",
            "973/973 [==============================] - 2s 2ms/step - loss: 3.9487e-04 - val_loss: 7.1356e-04\n",
            "Epoch 12/100\n",
            "973/973 [==============================] - 2s 2ms/step - loss: 4.0534e-04 - val_loss: 7.0421e-04\n",
            "Epoch 13/100\n",
            "973/973 [==============================] - 3s 3ms/step - loss: 4.2409e-04 - val_loss: 2.2344e-04\n",
            "Epoch 14/100\n",
            "973/973 [==============================] - 2s 2ms/step - loss: 3.9350e-04 - val_loss: 5.4636e-04\n",
            "Epoch 15/100\n",
            "973/973 [==============================] - 2s 2ms/step - loss: 3.3287e-04 - val_loss: 4.1313e-04\n",
            "Epoch 16/100\n",
            "973/973 [==============================] - 3s 3ms/step - loss: 4.1474e-04 - val_loss: 0.0019\n",
            "Epoch 17/100\n",
            "973/973 [==============================] - 2s 2ms/step - loss: 3.9944e-04 - val_loss: 3.0653e-04\n",
            "Epoch 18/100\n",
            "973/973 [==============================] - 3s 4ms/step - loss: 4.0459e-04 - val_loss: 2.0130e-04\n",
            "Epoch 19/100\n",
            "973/973 [==============================] - 2s 2ms/step - loss: 3.6207e-04 - val_loss: 0.0017\n",
            "Epoch 20/100\n",
            "973/973 [==============================] - 2s 2ms/step - loss: 4.0750e-04 - val_loss: 2.3600e-04\n",
            "Epoch 21/100\n",
            "973/973 [==============================] - 2s 2ms/step - loss: 3.8756e-04 - val_loss: 2.1244e-04\n",
            "Epoch 22/100\n",
            "973/973 [==============================] - 2s 2ms/step - loss: 3.9498e-04 - val_loss: 7.7687e-04\n",
            "Epoch 23/100\n",
            "973/973 [==============================] - 2s 2ms/step - loss: 3.7153e-04 - val_loss: 0.0011\n",
            "Epoch 24/100\n",
            "973/973 [==============================] - 2s 2ms/step - loss: 3.8155e-04 - val_loss: 3.0245e-04\n",
            "Epoch 25/100\n",
            "973/973 [==============================] - 2s 2ms/step - loss: 3.6429e-04 - val_loss: 9.5740e-04\n",
            "Epoch 26/100\n",
            "973/973 [==============================] - 2s 2ms/step - loss: 3.6858e-04 - val_loss: 3.2831e-04\n",
            "Epoch 27/100\n",
            "973/973 [==============================] - 2s 2ms/step - loss: 3.2529e-04 - val_loss: 6.8428e-04\n",
            "Epoch 28/100\n",
            "973/973 [==============================] - 2s 2ms/step - loss: 3.5634e-04 - val_loss: 2.0012e-04\n",
            "Epoch 29/100\n",
            "973/973 [==============================] - 2s 2ms/step - loss: 3.3562e-04 - val_loss: 1.9550e-04\n",
            "Epoch 30/100\n",
            "973/973 [==============================] - 2s 2ms/step - loss: 3.4601e-04 - val_loss: 2.1154e-04\n",
            "Epoch 31/100\n",
            "973/973 [==============================] - 2s 2ms/step - loss: 3.2970e-04 - val_loss: 2.6633e-04\n",
            "Epoch 32/100\n",
            "973/973 [==============================] - 2s 2ms/step - loss: 3.7761e-04 - val_loss: 8.9658e-04\n",
            "Epoch 33/100\n",
            "973/973 [==============================] - 2s 2ms/step - loss: 3.5805e-04 - val_loss: 0.0016\n",
            "Epoch 34/100\n",
            "973/973 [==============================] - 2s 2ms/step - loss: 3.2190e-04 - val_loss: 7.2963e-04\n",
            "Epoch 35/100\n",
            "973/973 [==============================] - 2s 2ms/step - loss: 3.3930e-04 - val_loss: 0.0015\n",
            "Epoch 36/100\n",
            "973/973 [==============================] - 2s 2ms/step - loss: 3.0816e-04 - val_loss: 2.0330e-04\n",
            "Epoch 37/100\n",
            "973/973 [==============================] - 2s 2ms/step - loss: 3.3155e-04 - val_loss: 0.0011\n",
            "Epoch 38/100\n",
            "973/973 [==============================] - 2s 2ms/step - loss: 3.1836e-04 - val_loss: 7.7110e-04\n",
            "Epoch 39/100\n",
            "973/973 [==============================] - 2s 2ms/step - loss: 3.3527e-04 - val_loss: 5.4018e-04\n",
            "39/39 [==============================] - 0s 1ms/step\n",
            "17/17 [==============================] - 0s 2ms/step\n",
            "Train Score: 386.46 RMSE\n",
            "Test Score: 633.04 RMSE\n"
          ]
        },
        {
          "output_type": "display_data",
          "data": {
            "text/plain": [
              "<Figure size 640x480 with 1 Axes>"
            ],
            "image/png": "[encoded data removed]"
          },
          "metadata": {}
        }
      ]
    }
  ]
}