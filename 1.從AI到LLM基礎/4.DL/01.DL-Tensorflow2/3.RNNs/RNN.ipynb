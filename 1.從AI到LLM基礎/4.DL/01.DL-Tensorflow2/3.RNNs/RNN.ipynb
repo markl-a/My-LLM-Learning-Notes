{
  "nbformat": 4,
  "nbformat_minor": 0,
  "metadata": {
    "colab": {
      "provenance": [],
      "gpuType": "V100"
    },
    "kernelspec": {
      "name": "python3",
      "display_name": "Python 3"
    },
    "language_info": {
      "name": "python"
    },
    "accelerator": "GPU"
  },
  "cells": [
    {
      "cell_type": "markdown",
      "source": [
        "# **RNN原理跟算法**\n",
        "\n",
        "\n",
        "<br>\n",
        "  <a href=\"https://colab.research.google.com/drive/15JgbvjFS1YT2jiFk_UoHgzE51MToF31_#scrollTo=e_J8uom_h2M0\"><img src=\"https://colab.research.google.com/assets/colab-badge.svg\" alt=\"Open In Colab\"></a>\n",
        "<br>\n",
        "\n",
        "\n",
        "\n",
        "\n"
      ],
      "metadata": {
        "id": "e_J8uom_h2M0"
      }
    },
    {
      "cell_type": "markdown",
      "source": [
        "## 1.RNN 算法的原理簡述\n",
        "\n",
        "* 循環神經網絡（RNN）是一類適用於學習像自然語言處理（NLP）中的文本這樣的序列數據的表示的神經網路種類。\n",
        "\n",
        "* RNN背後的思想是運用序列信息進行判斷，RNN之所以被稱為“循環”，是因為它們對序列中的每一個元素執行相同的任務，輸出依賴於之前的計算。\n",
        "\n",
        "* 另一種理解RNN的方式是，它們有一個“記憶”，捕捉到目前為止已經計算的信息，理論上，RNN可以利用在任意長的序列中的信息，但在實際的實現上，經典的RNN只能回顧幾步而已。"
      ],
      "metadata": {
        "id": "IH8hUlXP2H7W"
      }
    },
    {
      "cell_type": "markdown",
      "source": [
        "### 1.1.Tensorflow 的 RNN算法實現"
      ],
      "metadata": {
        "id": "gJSfPX4w2u6p"
      }
    },
    {
      "cell_type": "code",
      "source": [
        "import numpy as np # 為了使用線性代數相關的函數\n",
        "import pandas as pd # 為了使用資料處理相關的套件\n",
        "import requests\n",
        "url = 'https://github.com/markl-a/ML-demos/raw/main/3.RNNs/wonderland.txt'  # 注意這裡是 'raw' 鏈接\n",
        "response = requests.get(url)\n",
        "\n",
        "# 確保請求成功\n",
        "if response.status_code == 200:\n",
        "    with open('wonderland.txt', 'wb') as f:\n",
        "        f.write(response.content)\n",
        "else:\n",
        "    print('Failed to download the file.')"
      ],
      "metadata": {
        "id": "r274pZf9bBrj"
      },
      "execution_count": 1,
      "outputs": []
    },
    {
      "cell_type": "code",
      "source": [
        "# 載入Keras相關的套件\n",
        "from __future__ import print_function\n",
        "from tensorflow.keras.layers import SimpleRNN\n",
        "from keras.models import Sequential\n",
        "from keras.layers import Dense, Activation"
      ],
      "metadata": {
        "id": "W_mBkdh3b3vA"
      },
      "execution_count": 2,
      "outputs": []
    },
    {
      "cell_type": "code",
      "source": [
        "from keras.src.utils import split_dataset\n",
        "# 資料處理相關的過程\n",
        "RawData = \"wonderland.txt\"\n",
        "# 將輸入檔案轉成字元串流並轉到要處理的檔案中\n",
        "print(\"將輸入檔案轉成字元串流並轉到要處理的檔案中...\")\n",
        "with open(RawData, 'rb') as StreamData:\n",
        "    SplitDataset = [\n",
        "        line.strip().lower().decode(\"ascii\", \"ignore\")\n",
        "        for line in StreamData\n",
        "        if len(line.strip()) > 0\n",
        "    ]\n",
        "text = \" \".join(SplitDataset)"
      ],
      "metadata": {
        "colab": {
          "base_uri": "https://localhost:8080/"
        },
        "id": "w3AhI99ccDAb",
        "outputId": "7fafd063-411f-4cbf-aec8-9e9398e31b0d"
      },
      "execution_count": 3,
      "outputs": [
        {
          "output_type": "stream",
          "name": "stdout",
          "text": [
            "將輸入檔案轉成字元串流並轉到要處理的檔案中...\n"
          ]
        }
      ]
    },
    {
      "cell_type": "code",
      "source": [
        "# 創建字符到索引和索引到字符的映射\n",
        "charSet = set(text)\n",
        "charToIndex = {c: i for i, c in enumerate(charSet)}\n",
        "indexToChar = {i: c for i, c in enumerate(charSet)}\n",
        "\n",
        "# 初始化參數和列表\n",
        "print(\"建立輸入向量和文字標籤\")\n",
        "seqLen, step = 10, 1\n",
        "inputChars, labelChars = [], []\n",
        "\n",
        "# 創建輸入和標籤列表\n",
        "inputChars = [text[i:i + seqLen] for i in range(0, len(text) - seqLen, step)]\n",
        "labelChars = [text[i + seqLen] for i in range(0, len(text) - seqLen, step)]\n",
        "\n",
        "# 初始化和填充 X 和 y\n",
        "numChars = len(charSet)\n",
        "X = np.zeros((len(inputChars), seqLen, numChars), dtype=np.bool)\n",
        "y = np.zeros((len(inputChars), numChars), dtype=np.bool)\n",
        "\n",
        "for i, inputChar in enumerate(inputChars):\n",
        "    for j, ch in enumerate(inputChar):\n",
        "        X[i, j, charToIndex[ch]] = 1\n",
        "    y[i, charToIndex[labelChars[i]]] = 1\n",
        "\n"
      ],
      "metadata": {
        "colab": {
          "base_uri": "https://localhost:8080/"
        },
        "id": "SmK_NBQO5wCe",
        "outputId": "f1f1dff8-0346-44fd-86e1-0da7f9605c18"
      },
      "execution_count": 4,
      "outputs": [
        {
          "output_type": "stream",
          "name": "stdout",
          "text": [
            "建立輸入向量和文字標籤\n"
          ]
        },
        {
          "output_type": "stream",
          "name": "stderr",
          "text": [
            "<ipython-input-4-5c7b2e6c90d8>:17: DeprecationWarning: `np.bool` is a deprecated alias for the builtin `bool`. To silence this warning, use `bool` by itself. Doing this will not modify any behavior and is safe. If you specifically wanted the numpy scalar type, use `np.bool_` here.\n",
            "Deprecated in NumPy 1.20; for more details and guidance: https://numpy.org/devdocs/release/1.20.0-notes.html#deprecations\n",
            "  X = np.zeros((len(inputChars), seqLen, numChars), dtype=np.bool)\n",
            "<ipython-input-4-5c7b2e6c90d8>:18: DeprecationWarning: `np.bool` is a deprecated alias for the builtin `bool`. To silence this warning, use `bool` by itself. Doing this will not modify any behavior and is safe. If you specifically wanted the numpy scalar type, use `np.bool_` here.\n",
            "Deprecated in NumPy 1.20; for more details and guidance: https://numpy.org/devdocs/release/1.20.0-notes.html#deprecations\n",
            "  y = np.zeros((len(inputChars), numChars), dtype=np.bool)\n"
          ]
        }
      ]
    },
    {
      "cell_type": "code",
      "source": [
        "# 初始化參數\n",
        "hiddenSize, batchSize = 128, 128\n",
        "numIterations, numEpochsPerIteration, numPredsPerEpoch = 25, 1, 100\n",
        "\n",
        "# 建立模型\n",
        "model = Sequential([\n",
        "    SimpleRNN(hiddenSize, return_sequences=False, input_shape=(seqLen, numChars), unroll=True),\n",
        "    Dense(numChars),\n",
        "    Activation(\"softmax\")\n",
        "])\n",
        "\n",
        "# 編譯模型\n",
        "model.compile(loss=\"categorical_crossentropy\", optimizer=\"rmsprop\")"
      ],
      "metadata": {
        "id": "gtThiEaN73R7"
      },
      "execution_count": 5,
      "outputs": []
    },
    {
      "cell_type": "code",
      "source": [
        "# 我們分批訓練模型，並在每個迭代步驟後生成測試輸出\n",
        "for iteration in range(numIterations):# 遍歷每一個迭代步驟\n",
        "    print(\"=\" * 50)# 輸出分隔線\n",
        "    print(\"Iteration #: %d\" % (iteration))# 輸出當前迭代次數\n",
        "    # 使用 fit 方法訓練模型，批次大小為 batchSize，迭代次數為 numEpochsPerIteration\n",
        "    model.fit(X, y, batch_size=batchSize, epochs=numEpochsPerIteration)\n",
        "\n",
        "    # 測試模型\n",
        "    # 從 inputChars 中隨機選擇一個索引作為種子，然後生成接下來的 100 個字符\n",
        "    testIdx = np.random.randint(len(inputChars))# 隨機選擇一個索引\n",
        "    testChars = inputChars[testIdx]# 使用該索引獲取對應的字符序列作為種子\n",
        "    print(\"Generating from seed: %s\" % (testChars))# 輸出所選的種子\n",
        "    print(testChars, end=\"\")# 輸出種子字符，不換行\n",
        "    # 遍歷每一個預測步驟\n",
        "    for i in range(numPredsPerEpoch):\n",
        "        # 初始化一個形狀為 (1, seqLen, numChars) 的零矩陣，用於存儲單個輸入序列\n",
        "        Xtest = np.zeros((1, seqLen, numChars))\n",
        "        # 填充 Xtest 矩陣\n",
        "        for i, ch in enumerate(testChars):\n",
        "            Xtest[0, i, charToIndex[ch]] = 1# 將對應的字符位置設為 1\n",
        "        # 使用模型進行預測\n",
        "        pred = model.predict(Xtest, verbose=0)[0]\n",
        "        # 從預測結果中選擇最可能的字符\n",
        "        ypred = indexToChar[np.argmax(pred)]\n",
        "        # 輸出預測的字符，不換行\n",
        "        print(ypred, end=\"\")\n",
        "        # 更新 testChars，以便下一次預測\n",
        "        testChars = testChars[1:] + ypred\n",
        "    print()# 換行，開始下一個迭代步驟"
      ],
      "metadata": {
        "colab": {
          "base_uri": "https://localhost:8080/"
        },
        "id": "CYFkrXb28xPQ",
        "outputId": "5110dc0e-ff3c-4167-a39d-5dc4f59874e6"
      },
      "execution_count": 6,
      "outputs": [
        {
          "output_type": "stream",
          "name": "stdout",
          "text": [
            "==================================================\n",
            "Iteration #: 0\n",
            "1241/1241 [==============================] - 15s 6ms/step - loss: 2.3450\n",
            "Generating from seed: y took the\n",
            "y took the wast the sher the said the said the said the said the said the said the said the said the said the \n",
            "==================================================\n",
            "Iteration #: 1\n",
            "1241/1241 [==============================] - 6s 4ms/step - loss: 2.0465\n",
            "Generating from seed: any rate a\n",
            "any rate and the sald the tore the routhe ther she her the sald the tore the routhe ther she her the sald the \n",
            "==================================================\n",
            "Iteration #: 2\n",
            "1241/1241 [==============================] - 6s 5ms/step - loss: 1.9354\n",
            "Generating from seed: n, and she\n",
            "n, and she could to the dore to the dore to the dore to the dore to the dore to the dore to the dore to the do\n",
            "==================================================\n",
            "Iteration #: 3\n",
            "1241/1241 [==============================] - 6s 5ms/step - loss: 1.8498\n",
            "Generating from seed: e alice wa\n",
            "e alice was a lang the could the doon the labbet in a moute the forme the forme the forme the forme the forme \n",
            "==================================================\n",
            "Iteration #: 4\n",
            "1241/1241 [==============================] - 5s 4ms/step - loss: 1.7818\n",
            "Generating from seed: ake us up \n",
            "ake us up and she had alice and alice and alice and alice and alice and alice and alice and alice and alice an\n",
            "==================================================\n",
            "Iteration #: 5\n",
            "1241/1241 [==============================] - 6s 5ms/step - loss: 1.7279\n",
            "Generating from seed: you myself\n",
            "you myself the grown the grown the grown the grown the grown the grown the grown the grown the grown the grown\n",
            "==================================================\n",
            "Iteration #: 6\n",
            "1241/1241 [==============================] - 6s 5ms/step - loss: 1.6828\n",
            "Generating from seed: n and how \n",
            "n and how the said to the gryphon and the mock turtle to any all the some of the said to the gryphon and the m\n",
            "==================================================\n",
            "Iteration #: 7\n",
            "1241/1241 [==============================] - 6s 5ms/step - loss: 1.6441\n",
            "Generating from seed: ng at ever\n",
            "ng at ever was the she said the mouse said the mouse said the mouse said the mouse said the mouse said the mou\n",
            "==================================================\n",
            "Iteration #: 8\n",
            "1241/1241 [==============================] - 5s 4ms/step - loss: 1.6122\n",
            "Generating from seed: ought; and\n",
            "ought; and the mack turnle the mad a little sought and was a little sought and was a little sought and was a l\n",
            "==================================================\n",
            "Iteration #: 9\n",
            "1241/1241 [==============================] - 5s 4ms/step - loss: 1.5845\n",
            "Generating from seed: o the trad\n",
            "o the tradece the dight and the cat a little sought and comping the could to the doom as she cauld her head th\n",
            "==================================================\n",
            "Iteration #: 10\n",
            "1241/1241 [==============================] - 5s 4ms/step - loss: 1.5593\n",
            "Generating from seed: d the quee\n",
            "d the queens and was to she was to mare alice was so she said alice was so she said alice was so she said alic\n",
            "==================================================\n",
            "Iteration #: 11\n",
            "1241/1241 [==============================] - 5s 4ms/step - loss: 1.5384\n",
            "Generating from seed: g her paws\n",
            "g her paws and the was the mock turtle the project gutenberg-tm electronic work on the which the was the mock \n",
            "==================================================\n",
            "Iteration #: 12\n",
            "1241/1241 [==============================] - 6s 5ms/step - loss: 1.5200\n",
            "Generating from seed: : so she h\n",
            ": so she heard to have to have to have to have to have to have to have to have to have to have to have to have\n",
            "==================================================\n",
            "Iteration #: 13\n",
            "1241/1241 [==============================] - 6s 5ms/step - loss: 1.5026\n",
            "Generating from seed: adrille is\n",
            "adrille is the mock turtle the project gutenberg-tm electronic work or the said the mock turtle the project gu\n",
            "==================================================\n",
            "Iteration #: 14\n",
            "1241/1241 [==============================] - 5s 4ms/step - loss: 1.4875\n",
            "Generating from seed: and was go\n",
            "and was going to be not ment the project gutenberg-tm electronic works the hatter was the mory to do stated th\n",
            "==================================================\n",
            "Iteration #: 15\n",
            "1241/1241 [==============================] - 5s 4ms/step - loss: 1.4745\n",
            "Generating from seed: buting a p\n",
            "buting a person and the courte in a minute or the things alice as the three so alice as the three so alice as \n",
            "==================================================\n",
            "Iteration #: 16\n",
            "1241/1241 [==============================] - 5s 4ms/step - loss: 1.4611\n",
            "Generating from seed: g, and lon\n",
            "g, and long a little gone and the caterpillar the could not as she caterpillar the could not as she caterpilla\n",
            "==================================================\n",
            "Iteration #: 17\n",
            "1241/1241 [==============================] - 6s 5ms/step - loss: 1.4505\n",
            "Generating from seed: , and said\n",
            ", and said the mock turtle at the work of the sablee at the work of the sablee at the work of the sablee at th\n",
            "==================================================\n",
            "Iteration #: 18\n",
            "1241/1241 [==============================] - 6s 5ms/step - loss: 1.4387\n",
            "Generating from seed: days wrong\n",
            "days wrong as it made of the which was the mock turtle she was go now you know what it made the white rabbit w\n",
            "==================================================\n",
            "Iteration #: 19\n",
            "1241/1241 [==============================] - 6s 5ms/step - loss: 1.4303\n",
            "Generating from seed:  i want a \n",
            " i want a little streat of a must had a little streat of a must had a little streat of a must had a little str\n",
            "==================================================\n",
            "Iteration #: 20\n",
            "1241/1241 [==============================] - 5s 4ms/step - loss: 1.4212\n",
            "Generating from seed: arm, with \n",
            "arm, with the dormouse said the king her it was the king her it was the king her it was the king her it was th\n",
            "==================================================\n",
            "Iteration #: 21\n",
            "1241/1241 [==============================] - 6s 5ms/step - loss: 1.4125\n",
            "Generating from seed:  with diam\n",
            " with diam, said the mock turtle in a much all down the mouse got may little the mock turtle in a much all dow\n",
            "==================================================\n",
            "Iteration #: 22\n",
            "1241/1241 [==============================] - 8s 7ms/step - loss: 1.4042\n",
            "Generating from seed:  asleep, h\n",
            " asleep, harr one of the door of the door of the door of the door of the door of the door of the door of the d\n",
            "==================================================\n",
            "Iteration #: 23\n",
            "1241/1241 [==============================] - 6s 5ms/step - loss: 1.3980\n",
            "Generating from seed: ed you wit\n",
            "ed you with and all the some of the door all the some of the door all the some of the door all the some of the\n",
            "==================================================\n",
            "Iteration #: 24\n",
            "1241/1241 [==============================] - 6s 5ms/step - loss: 1.3903\n",
            "Generating from seed: ould chang\n",
            "ould change the dormouse in a minute or the white rabbit on the the footman in the the footman in the the foot\n"
          ]
        }
      ]
    },
    {
      "cell_type": "markdown",
      "source": [
        "## 2.参考：\n",
        "\n",
        "1.[comprehensive guide to rnn with keras](https://www.kaggle.com/code/prashant111/comprehensive-guide-to-rnn-with-keras)\n",
        "\n",
        "2.[A guide on Recurrent Neural Networks: Character-level Text Generator](https://edumunozsala.github.io/BlogEms/fastpages/jupyter/rnn/lstm/pytorch/2020/09/03/char-level-text-generator-pytorch.html)\n",
        "\n",
        "\n",
        "\n"
      ],
      "metadata": {
        "id": "nzYtv6BYT4R3"
      }
    }
  ]
}