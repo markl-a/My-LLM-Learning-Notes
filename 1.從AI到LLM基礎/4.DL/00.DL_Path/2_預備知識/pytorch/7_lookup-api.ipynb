{
 "cells": [
  {
   "cell_type": "markdown",
   "id": "01132d59",
   "metadata": {
    "origin_pos": 0
   },
   "source": [
    "# 查閱文檔\n"
   ]
  },
  {
   "cell_type": "markdown",
   "id": "b7f72d17",
   "metadata": {
    "origin_pos": 2,
    "tab": [
     "pytorch"
    ]
   },
   "source": [
    "由於篇幅限制，本書不可能介紹每一個PyTorch函數和類別。\n",
    "API文件、其他教程和範例提供了本書之外的大量文件。\n",
    "本節提供了一些查看PyTorch API的指導。\n"
   ]
  },
  {
   "cell_type": "markdown",
   "id": "97173144",
   "metadata": {
    "origin_pos": 4
   },
   "source": [
    "## 查找模組中的所有函數和類別\n",
    "\n",
    "為了知道模組中可以調用哪些函數和類別，可以調用`dir`函數。\n",
    "例如，我們可以(**查詢隨機數生成模組中的所有屬性：**)\n"
   ]
  },
  {
   "cell_type": "code",
   "execution_count": 2,
   "id": "8f7f4d63",
   "metadata": {
    "execution": {
     "iopub.execute_input": "2023-08-18T07:05:30.519062Z",
     "iopub.status.busy": "2023-08-18T07:05:30.518501Z",
     "iopub.status.idle": "2023-08-18T07:05:31.469749Z",
     "shell.execute_reply": "2023-08-18T07:05:31.468858Z"
    },
    "origin_pos": 6,
    "tab": [
     "pytorch"
    ]
   },
   "outputs": [
    {
     "name": "stdout",
     "output_type": "stream",
     "text": [
      "['AbsTransform', 'AffineTransform', 'Bernoulli', 'Beta', 'Binomial', 'CatTransform', 'Categorical', 'Cauchy', 'Chi2', 'ComposeTransform', 'ContinuousBernoulli', 'CorrCholeskyTransform', 'CumulativeDistributionTransform', 'Dirichlet', 'Distribution', 'ExpTransform', 'Exponential', 'ExponentialFamily', 'FisherSnedecor', 'Gamma', 'Geometric', 'Gumbel', 'HalfCauchy', 'HalfNormal', 'Independent', 'IndependentTransform', 'InverseGamma', 'Kumaraswamy', 'LKJCholesky', 'Laplace', 'LogNormal', 'LogisticNormal', 'LowRankMultivariateNormal', 'LowerCholeskyTransform', 'MixtureSameFamily', 'Multinomial', 'MultivariateNormal', 'NegativeBinomial', 'Normal', 'OneHotCategorical', 'OneHotCategoricalStraightThrough', 'Pareto', 'Poisson', 'PositiveDefiniteTransform', 'PowerTransform', 'RelaxedBernoulli', 'RelaxedOneHotCategorical', 'ReshapeTransform', 'SigmoidTransform', 'SoftmaxTransform', 'SoftplusTransform', 'StackTransform', 'StickBreakingTransform', 'StudentT', 'TanhTransform', 'Transform', 'TransformedDistribution', 'Uniform', 'VonMises', 'Weibull', 'Wishart', '__all__', '__builtins__', '__cached__', '__doc__', '__file__', '__loader__', '__name__', '__package__', '__path__', '__spec__', 'bernoulli', 'beta', 'biject_to', 'binomial', 'categorical', 'cauchy', 'chi2', 'constraint_registry', 'constraints', 'continuous_bernoulli', 'dirichlet', 'distribution', 'exp_family', 'exponential', 'fishersnedecor', 'gamma', 'geometric', 'gumbel', 'half_cauchy', 'half_normal', 'identity_transform', 'independent', 'inverse_gamma', 'kl', 'kl_divergence', 'kumaraswamy', 'laplace', 'lkj_cholesky', 'log_normal', 'logistic_normal', 'lowrank_multivariate_normal', 'mixture_same_family', 'multinomial', 'multivariate_normal', 'negative_binomial', 'normal', 'one_hot_categorical', 'pareto', 'poisson', 'register_kl', 'relaxed_bernoulli', 'relaxed_categorical', 'studentT', 'transform_to', 'transformed_distribution', 'transforms', 'uniform', 'utils', 'von_mises', 'weibull', 'wishart']\n"
     ]
    }
   ],
   "source": [
    "import torch\n",
    "\n",
    "print(dir(torch.distributions))"
   ]
  },
  {
   "cell_type": "markdown",
   "id": "a6e589e9",
   "metadata": {
    "origin_pos": 9
   },
   "source": [
    "通常可以忽略以\"`__`\"（雙底線）開始和結束的函數，它們是Python中的特殊物件，\n",
    "或以單個\"`_`\"（單底線）開始的函數，它們通常是內部函數。\n",
    "根據剩餘的函數名或屬性名，我們可能會猜測這個模組提供了各種生成隨機數的方法，\n",
    "包括從均勻分布（`uniform`）、常態分布（`normal`）和多項分布（`multinomial`）中採樣。\n",
    " \n",
    "## 查找特定函數和類別的用法\n",
    " \n",
    "有關如何使用給定函數或類別的更具體說明，可以呼叫`help`函數。\n",
    "例如，我們來[**查看張量`ones`函數的用法。**]\n"
   ]
  },
  {
   "cell_type": "code",
   "execution_count": 3,
   "id": "a16494ed",
   "metadata": {
    "execution": {
     "iopub.execute_input": "2023-08-18T07:05:31.473606Z",
     "iopub.status.busy": "2023-08-18T07:05:31.472946Z",
     "iopub.status.idle": "2023-08-18T07:05:31.477780Z",
     "shell.execute_reply": "2023-08-18T07:05:31.476938Z"
    },
    "origin_pos": 11,
    "tab": [
     "pytorch"
    ]
   },
   "outputs": [
    {
     "name": "stdout",
     "output_type": "stream",
     "text": [
      "Help on built-in function ones in module torch:\n",
      "\n",
      "ones(...)\n",
      "    ones(*size, *, out=None, dtype=None, layout=torch.strided, device=None, requires_grad=False) -> Tensor\n",
      "\n",
      "    Returns a tensor filled with the scalar value `1`, with the shape defined\n",
      "    by the variable argument :attr:`size`.\n",
      "\n",
      "    Args:\n",
      "        size (int...): a sequence of integers defining the shape of the output tensor.\n",
      "            Can be a variable number of arguments or a collection like a list or tuple.\n",
      "\n",
      "    Keyword arguments:\n",
      "        out (Tensor, optional): the output tensor.\n",
      "        dtype (:class:`torch.dtype`, optional): the desired data type of returned tensor.\n",
      "            Default: if ``None``, uses a global default (see :func:`torch.set_default_dtype`).\n",
      "        layout (:class:`torch.layout`, optional): the desired layout of returned Tensor.\n",
      "            Default: ``torch.strided``.\n",
      "        device (:class:`torch.device`, optional): the desired device of returned tensor.\n",
      "            Default: if ``None``, uses the current device for the default tensor type\n",
      "            (see :func:`torch.set_default_device`). :attr:`device` will be the CPU\n",
      "            for CPU tensor types and the current CUDA device for CUDA tensor types.\n",
      "        requires_grad (bool, optional): If autograd should record operations on the\n",
      "            returned tensor. Default: ``False``.\n",
      "\n",
      "    Example::\n",
      "\n",
      "        >>> torch.ones(2, 3)\n",
      "        tensor([[ 1.,  1.,  1.],\n",
      "                [ 1.,  1.,  1.]])\n",
      "\n",
      "        >>> torch.ones(5)\n",
      "        tensor([ 1.,  1.,  1.,  1.,  1.])\n",
      "\n"
     ]
    }
   ],
   "source": [
    "help(torch.ones)"
   ]
  },
  {
   "cell_type": "markdown",
   "id": "903c096e",
   "metadata": {
    "origin_pos": 14
   },
   "source": [
    "從文件中，我們可以看到`ones`函數建立一個具有指定形狀的新張量，並將所有元素值設定為1。\n",
    "下面來[**執行一個快速測試**]來確認這一解釋：\n"
   ]
  },
  {
   "cell_type": "code",
   "execution_count": 4,
   "id": "7870b2f5",
   "metadata": {
    "execution": {
     "iopub.execute_input": "2023-08-18T07:05:31.481310Z",
     "iopub.status.busy": "2023-08-18T07:05:31.480685Z",
     "iopub.status.idle": "2023-08-18T07:05:31.490398Z",
     "shell.execute_reply": "2023-08-18T07:05:31.489581Z"
    },
    "origin_pos": 16,
    "tab": [
     "pytorch"
    ]
   },
   "outputs": [
    {
     "data": {
      "text/plain": [
       "tensor([1., 1., 1., 1.])"
      ]
     },
     "execution_count": 4,
     "metadata": {},
     "output_type": "execute_result"
    }
   ],
   "source": [
    "torch.ones(4)"
   ]
  },
  {
   "cell_type": "markdown",
   "id": "dd4f531d",
   "metadata": {
    "origin_pos": 19
   },
   "source": [
    "在Jupyter筆記本中，我們可以使用`?`指令在另一個瀏覽器視窗中顯示文件。\n",
    "例如，`list?`指令將建立與`help(list)`指令幾乎相同的內容，並在新的瀏覽器視窗中顯示它。\n",
    "此外，如果我們使用兩個問號，如`list??`，將顯示實現該函數的Python程式碼。\n",
    " \n",
    "## 小結\n",
    " \n",
    "* 官方文件提供了本書之外的大量描述和示例。\n",
    "* 可以透過呼叫`dir`和`help`函數或在Jupyter筆記本中使用`?`和`??`查看API的用法文件。\n",
    " \n",
    "## 練習\n",
    " \n",
    "1. 在深度學習框架中查找任何函數或類別的文件。請嘗試在這個框架的官方網站上找到文件。\n",
    "\n",
    "## 回答\n",
    "\n",
    "1.這個其實使用ai或google就可以了\n"
   ]
  },
  {
   "cell_type": "markdown",
   "id": "197b3dc7",
   "metadata": {
    "origin_pos": 21,
    "tab": [
     "pytorch"
    ]
   },
   "source": [
    "[Discussions](https://discuss.d2l.ai/t/1765)\n"
   ]
  }
 ],
 "metadata": {
  "kernelspec": {
   "display_name": "py124",
   "language": "python",
   "name": "python3"
  },
  "language_info": {
   "codemirror_mode": {
    "name": "ipython",
    "version": 3
   },
   "file_extension": ".py",
   "mimetype": "text/x-python",
   "name": "python",
   "nbconvert_exporter": "python",
   "pygments_lexer": "ipython3",
   "version": "3.12.4"
  },
  "required_libs": []
 },
 "nbformat": 4,
 "nbformat_minor": 5
}
