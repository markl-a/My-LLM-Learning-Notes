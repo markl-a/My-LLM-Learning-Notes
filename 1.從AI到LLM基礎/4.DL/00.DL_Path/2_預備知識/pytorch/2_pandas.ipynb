{
 "cells": [
  {
   "cell_type": "markdown",
   "id": "ab73852c",
   "metadata": {
    "origin_pos": 0
   },
   "source": [
    "## 資料預處理\n",
    ":label:`sec_pandas`\n",
    "\n",
    "為了能用深度學習來解決現實世界的問題，我們經常從預處理原始資料開始，\n",
    "而不是從那些準備好的張量格式資料開始。\n",
    "在Python中常用的資料分析工具中，我們通常使用`pandas`軟體套件。\n",
    "像龐大的Python生態系統中的許多其他擴充套件一樣，`pandas`可以與張量相容。\n",
    "本節我們將簡要介紹使用`pandas`預處理原始資料，並將原始資料轉換為張量格式的步驟。\n",
    "後面的章節將介紹更多的資料預處理技術。\n",
    "\n",
    "## 讀取資料集\n",
    "\n",
    "舉一個例子，我們首先(**建立一個人工資料集，並儲存在CSV（逗號分隔值）檔案**)\n",
    "`../data/house_tiny.csv`中。\n",
    "以其他格式儲存的資料也可以通過類似的方式進行處理。\n",
    "下面我們將資料集按行寫入CSV檔案中。\n"
   ]
  },
  {
   "cell_type": "code",
   "execution_count": 2,
   "id": "ee72fd16",
   "metadata": {
    "execution": {
     "iopub.execute_input": "2023-08-18T07:03:38.903209Z",
     "iopub.status.busy": "2023-08-18T07:03:38.902351Z",
     "iopub.status.idle": "2023-08-18T07:03:38.918117Z",
     "shell.execute_reply": "2023-08-18T07:03:38.916775Z"
    },
    "origin_pos": 1,
    "tab": [
     "pytorch"
    ]
   },
   "outputs": [],
   "source": [
    "import os\n",
    "\n",
    "os.makedirs(os.path.join('..', 'data'), exist_ok=True)\n",
    "data_file = os.path.join('..', 'data', 'house_tiny.csv')\n",
    "with open(data_file, 'w') as f:\n",
    "    f.write('NumRooms,Alley,Price\\n')  # 列名\n",
    "    f.write('NA,Pave,127500\\n')  # 每行表示一個數據樣本\n",
    "    f.write('2,NA,106000\\n')\n",
    "    f.write('4,NA,178100\\n')\n",
    "    f.write('NA,NA,140000\\n')"
   ]
  },
  {
   "cell_type": "markdown",
   "id": "f5be7568",
   "metadata": {
    "origin_pos": 2
   },
   "source": [
    "要[**從建立的CSV檔案中載入原始資料集**]，我們匯入`pandas`套件並呼叫`read_csv`函式。該資料集有四列三行。其中每行描述了房間數量（\"NumRooms\"）、巷子類型（\"Alley\"）和房屋價格（\"Price\"）。\n"
   ]
  },
  {
   "cell_type": "code",
   "execution_count": 3,
   "id": "5fb16e52",
   "metadata": {
    "execution": {
     "iopub.execute_input": "2023-08-18T07:03:38.923957Z",
     "iopub.status.busy": "2023-08-18T07:03:38.923101Z",
     "iopub.status.idle": "2023-08-18T07:03:39.372116Z",
     "shell.execute_reply": "2023-08-18T07:03:39.371151Z"
    },
    "origin_pos": 3,
    "tab": [
     "pytorch"
    ]
   },
   "outputs": [
    {
     "name": "stdout",
     "output_type": "stream",
     "text": [
      "   NumRooms Alley   Price\n",
      "0       NaN  Pave  127500\n",
      "1       2.0   NaN  106000\n",
      "2       4.0   NaN  178100\n",
      "3       NaN   NaN  140000\n"
     ]
    }
   ],
   "source": [
    "# 如果沒有安裝pandas，只需取消對以下行的註釋來安裝pandas\n",
    "# !pip install pandas\n",
    "import pandas as pd\n",
    "\n",
    "data = pd.read_csv(data_file)\n",
    "print(data)"
   ]
  },
  {
   "cell_type": "markdown",
   "id": "30188bf5",
   "metadata": {
    "origin_pos": 4
   },
   "source": [
    "## 處理缺失值\n",
    "\n",
    "注意，\"NaN\"項代表缺失值。\n",
    "[**為了處理缺失的數據，典型的方法包括*插值法*和*刪除法*，**]\n",
    "其中插值法用一個替代值彌補缺失值，而刪除法則直接忽略缺失值。\n",
    "在(**這裡，我們將考慮插值法**)。\n",
    " \n",
    "通過位置索引`iloc`，我們將`data`分成`inputs`和`outputs`，\n",
    "其中前者為`data`的前兩列，而後者為`data`的最後一列。\n",
    "對於`inputs`中缺少的數值，我們用同一列的均值替換\"NaN\"項。\n"
   ]
  },
  {
   "cell_type": "code",
   "execution_count": 4,
   "id": "d460a301",
   "metadata": {
    "execution": {
     "iopub.execute_input": "2023-08-18T07:03:39.375828Z",
     "iopub.status.busy": "2023-08-18T07:03:39.375535Z",
     "iopub.status.idle": "2023-08-18T07:03:39.389220Z",
     "shell.execute_reply": "2023-08-18T07:03:39.387998Z"
    },
    "origin_pos": 5,
    "tab": [
     "pytorch"
    ]
   },
   "outputs": [
    {
     "name": "stdout",
     "output_type": "stream",
     "text": [
      "   NumRooms Alley\n",
      "0       3.0  Pave\n",
      "1       2.0    NA\n",
      "2       4.0    NA\n",
      "3       3.0    NA\n"
     ]
    }
   ],
   "source": [
    "inputs, outputs = data.iloc[:, 0:2], data.iloc[:, 2]\n",
    "# 對數值列使用均值填充\n",
    "numeric_cols = ['NumRooms']\n",
    "inputs[numeric_cols] = inputs[numeric_cols].fillna(inputs[numeric_cols].mean())\n",
    "\n",
    "# 對類別列使用特定值填充（例如 'NA' 或最常見的值）\n",
    "categorical_cols = ['Alley']\n",
    "inputs[categorical_cols] = inputs[categorical_cols].fillna('NA')\n",
    "\n",
    "print(inputs)"
   ]
  },
  {
   "cell_type": "markdown",
   "id": "eae762a4",
   "metadata": {
    "origin_pos": 6
   },
   "source": [
    "[**對於`inputs`中的類別值或離散值，我們將\"NaN\"視為一個類別。**]\n",
    "由於\"巷子類型\"（\"Alley\"）列只接受兩種類型的類別值\"Pave\"和\"NaN\"，\n",
    "`pandas`可以自動將此列轉換為兩列\"Alley_Pave\"和\"Alley_nan\"。\n",
    "巷子類型為\"Pave\"的行會將\"Alley_Pave\"的值設置為1，\"Alley_nan\"的值設置為0。\n",
    "缺少巷子類型的行會將\"Alley_Pave\"和\"Alley_nan\"分別設置為0和1。\n"
   ]
  },
  {
   "cell_type": "code",
   "execution_count": 5,
   "id": "09ab8738",
   "metadata": {
    "execution": {
     "iopub.execute_input": "2023-08-18T07:03:39.394176Z",
     "iopub.status.busy": "2023-08-18T07:03:39.393444Z",
     "iopub.status.idle": "2023-08-18T07:03:39.409892Z",
     "shell.execute_reply": "2023-08-18T07:03:39.408559Z"
    },
    "origin_pos": 7,
    "tab": [
     "pytorch"
    ]
   },
   "outputs": [
    {
     "name": "stdout",
     "output_type": "stream",
     "text": [
      "   NumRooms  Alley_NA  Alley_Pave  Alley_nan\n",
      "0       3.0     False        True      False\n",
      "1       2.0      True       False      False\n",
      "2       4.0      True       False      False\n",
      "3       3.0      True       False      False\n"
     ]
    }
   ],
   "source": [
    "inputs = pd.get_dummies(inputs, dummy_na=True)\n",
    "print(inputs)"
   ]
  },
  {
   "cell_type": "markdown",
   "id": "ea1dd875",
   "metadata": {
    "origin_pos": 8
   },
   "source": [
    "## 轉換為張量格式\n",
    " \n",
    "[**現在`inputs`和`outputs`中的所有條目都是數值類型，它們可以轉換為張量格式。**]\n",
    "當數據採用張量格式後，可以通過在 :numref:`sec_ndarray`中引入的那些張量函數來進一步操作。\n"
   ]
  },
  {
   "cell_type": "code",
   "execution_count": 6,
   "id": "4f551c6d",
   "metadata": {
    "execution": {
     "iopub.execute_input": "2023-08-18T07:03:39.414531Z",
     "iopub.status.busy": "2023-08-18T07:03:39.413831Z",
     "iopub.status.idle": "2023-08-18T07:03:40.467689Z",
     "shell.execute_reply": "2023-08-18T07:03:40.466637Z"
    },
    "origin_pos": 10,
    "tab": [
     "pytorch"
    ]
   },
   "outputs": [
    {
     "data": {
      "text/plain": [
       "(tensor([[3., 0., 1., 0.],\n",
       "         [2., 1., 0., 0.],\n",
       "         [4., 1., 0., 0.],\n",
       "         [3., 1., 0., 0.]], dtype=torch.float64),\n",
       " tensor([127500., 106000., 178100., 140000.], dtype=torch.float64))"
      ]
     },
     "execution_count": 6,
     "metadata": {},
     "output_type": "execute_result"
    }
   ],
   "source": [
    "import torch\n",
    "\n",
    "X = torch.tensor(inputs.to_numpy(dtype=float))\n",
    "y = torch.tensor(outputs.to_numpy(dtype=float))\n",
    "X, y"
   ]
  },
  {
   "cell_type": "markdown",
   "id": "dbcbca0d",
   "metadata": {
    "origin_pos": 13
   },
   "source": [
    "## 小結\n",
    "\n",
    "* `pandas`軟體包是Python中常用的數據分析工具中，`pandas`可以與張量相容。\n",
    "* 用`pandas`處理缺失的數據時，我們可根據情況選擇用插值法和刪除法。\n",
    "\n",
    "## 練習\n",
    "\n",
    "創建包含更多行和列的原始數據集。\n",
    " \n",
    "1. 刪除缺失值最多的列。\n",
    "2. 將預處理後的數據集轉換為張量格式。\n"
   ]
  },
  {
   "cell_type": "markdown",
   "id": "7b8c6c96",
   "metadata": {
    "origin_pos": 15,
    "tab": [
     "pytorch"
    ]
   },
   "source": [
    "[Discussions](https://discuss.d2l.ai/t/1750)\n"
   ]
  },
  {
   "cell_type": "code",
   "execution_count": 7,
   "id": "01079b60",
   "metadata": {},
   "outputs": [
    {
     "data": {
      "text/plain": [
       "('Alley',\n",
       "    NumRooms   Price\n",
       " 0       NaN  127500\n",
       " 1       2.0  106000\n",
       " 2       4.0  178100\n",
       " 3       NaN  140000)"
      ]
     },
     "execution_count": 7,
     "metadata": {},
     "output_type": "execute_result"
    }
   ],
   "source": [
    "#創建包含更多行和列的原始數據集。\n",
    " \n",
    "#1. 刪除缺失值最多的列。\n",
    "import pandas as pd\n",
    "\n",
    "# Creating the dataset as described in the notebook\n",
    "data = pd.DataFrame({\n",
    "    \"NumRooms\": [None, 2, 4, None],\n",
    "    \"Alley\": [\"Pave\", None, None, None],\n",
    "    \"Price\": [127500, 106000, 178100, 140000]\n",
    "})\n",
    "\n",
    "# Identify the column with the most missing values and drop it\n",
    "col_with_max_missing = data.isnull().sum().idxmax()\n",
    "data_dropped = data.drop(columns=[col_with_max_missing])\n",
    "\n",
    "# Show the dataset after dropping the column\n",
    "col_with_max_missing, data_dropped\n"
   ]
  },
  {
   "cell_type": "code",
   "execution_count": 8,
   "id": "13c2f36d",
   "metadata": {},
   "outputs": [
    {
     "name": "stdout",
     "output_type": "stream",
     "text": [
      "tensor([[3.0000e+00, 1.2750e+05],\n",
      "        [2.0000e+00, 1.0600e+05],\n",
      "        [4.0000e+00, 1.7810e+05],\n",
      "        [3.0000e+00, 1.4000e+05]])\n"
     ]
    },
    {
     "name": "stderr",
     "output_type": "stream",
     "text": [
      "C:\\Users\\marklai\\AppData\\Local\\Temp\\ipykernel_11280\\2863181916.py:3: FutureWarning: A value is trying to be set on a copy of a DataFrame or Series through chained assignment using an inplace method.\n",
      "The behavior will change in pandas 3.0. This inplace method will never work because the intermediate object on which we are setting values always behaves as a copy.\n",
      "\n",
      "For example, when doing 'df[col].method(value, inplace=True)', try using 'df.method({col: value}, inplace=True)' or df[col] = df[col].method(value) instead, to perform the operation inplace on the original object.\n",
      "\n",
      "\n",
      "  data_dropped['NumRooms'].fillna(data_dropped['NumRooms'].mean(), inplace=True)\n"
     ]
    }
   ],
   "source": [
    "# 2. 將預處理後的數據集轉換為張量格式。\n",
    "# 填補剩餘的缺失值\n",
    "data_dropped['NumRooms'].fillna(data_dropped['NumRooms'].mean(), inplace=True)\n",
    "\n",
    "# 轉換為 PyTorch 張量\n",
    "data_tensor = torch.tensor(data_dropped.values, dtype=torch.float32)\n",
    "\n",
    "print(data_tensor)"
   ]
  }
 ],
 "metadata": {
  "kernelspec": {
   "display_name": "py124",
   "language": "python",
   "name": "python3"
  },
  "language_info": {
   "codemirror_mode": {
    "name": "ipython",
    "version": 3
   },
   "file_extension": ".py",
   "mimetype": "text/x-python",
   "name": "python",
   "nbconvert_exporter": "python",
   "pygments_lexer": "ipython3",
   "version": "3.12.4"
  },
  "required_libs": []
 },
 "nbformat": 4,
 "nbformat_minor": 5
}
