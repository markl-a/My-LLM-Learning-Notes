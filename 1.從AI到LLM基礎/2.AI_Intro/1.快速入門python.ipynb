{
  "nbformat": 4,
  "nbformat_minor": 0,
  "metadata": {
    "colab": {
      "provenance": []
    },
    "kernelspec": {
      "name": "python3",
      "display_name": "Python 3"
    },
    "language_info": {
      "name": "python"
    }
  },
  "cells": [
    {
      "cell_type": "markdown",
      "source": [
        "\n",
        "<br>\n",
        "  <a href=\"https://colab.research.google.com/drive/17PNcma_rdbLV49mnFbETmRaeBABFNTPm?usp=sharing\"><img src=\"https://colab.research.google.com/assets/colab-badge.svg\" alt=\"Open In Colab\"></a>\n",
        "<br>"
      ],
      "metadata": {
        "id": "PiwJVxwHdgUs"
      }
    },
    {
      "cell_type": "markdown",
      "source": [
        "此notebook由Stanford CS231n 課程筆記[Python Numpy Tutorial](https://cs231n.github.io/python-numpy-tutorial/) 演繹而來，原作者為[Justin Johnson](http://cs.stanford. edu/people/jcjohns/)，譯者為[杜客](https://zhuanlan.zhihu.com/p/20878530), 我也在原有內容的基礎上進行了修改，將此切成兩部分，一個為基礎的Python，一個為 Numpy,Matplotlib,Seaborn,Pandas,altair入門跟應用。"
      ],
      "metadata": {
        "id": "YRUuk9FP167a"
      }
    },
    {
      "cell_type": "markdown",
      "source": [
        "# 1.環境設定(相關的參考連結)\n",
        "\n"
      ],
      "metadata": {
        "id": "KtYHW9--Drt9"
      }
    },
    {
      "cell_type": "markdown",
      "source": [
        "\n",
        "## 1.1 [colab 簡單教學](https://medium.com/python4u/google-colab-%E6%95%99%E5%AD%B8-2-%E5%BB%BA%E7%AB%8B%E5%8F%8A%E4%BD%BF%E7%94%A8-colab-%E7%AD%86%E8%A8%98%E6%9C%AC%E7%B7%A8%E5%AF%AB-python-8b0d1a5b920d)\n",
        "## 1.2 [連接到Server端執行jupyter notebook](https://gist.github.com/Keycatowo/f9d69eb1b2145f21cff7c9d19cc32810)\n",
        "## 1.3 [Python 環境搭建](https://www.runoob.com/python/python-install.html)\n",
        "\n",
        "## 1.4 [使用VS code建置環境並執行python程式](https://ithelp.ithome.com.tw/articles/10212365)\n",
        "\n",
        "## 1.5 [使用 Anaconda](https://steam.oxxostudio.tw/category/python/info/anaconda.html)\n",
        "## 1.6 [使用 Python 虛擬環境](https://steam.oxxostudio.tw/category/python/info/virtualenv.html)\n",
        "\n",
        "## 1.7 [PyCharm 環境安裝全方位解說](https://quantpass.org/pycharm/)\n"
      ],
      "metadata": {
        "id": "-ndH5Zb76JsK"
      }
    },
    {
      "cell_type": "markdown",
      "source": [
        "請確認python 目前是在3.5版本上運行"
      ],
      "metadata": {
        "id": "UqrNA8dMPY25"
      }
    },
    {
      "cell_type": "code",
      "source": [
        "!python --version"
      ],
      "metadata": {
        "colab": {
          "base_uri": "https://localhost:8080/"
        },
        "id": "vBKs68C7PRfT",
        "outputId": "3015c10a-84d3-4fad-d613-57591f8b9f2d"
      },
      "execution_count": null,
      "outputs": [
        {
          "output_type": "stream",
          "name": "stdout",
          "text": [
            "Python 3.10.12\n"
          ]
        }
      ]
    },
    {
      "cell_type": "markdown",
      "source": [
        "# 2.Python 基本資料型態跟語法\n",
        "\n",
        "[較詳細的可至 python3教學](https://www.runoob.com/python3/python3-data-type.html)"
      ],
      "metadata": {
        "id": "30ga5-buLxDp"
      }
    },
    {
      "cell_type": "code",
      "source": [
        "#  Python 程式中 設定UTF-8編碼 到繁中 以及 簡中 的範例\n",
        "\n",
        "# -*- coding: utf-8 -*-\n",
        "\n",
        "#最簡單的印出格式\n",
        "print(\"Hello, World!\")"
      ],
      "metadata": {
        "id": "6_XCQQzuZDtl",
        "colab": {
          "base_uri": "https://localhost:8080/"
        },
        "outputId": "7ce02381-f21f-46c5-f094-97000524d094"
      },
      "execution_count": null,
      "outputs": [
        {
          "output_type": "stream",
          "name": "stdout",
          "text": [
            "Hello, World!\n"
          ]
        }
      ]
    },
    {
      "cell_type": "code",
      "source": [
        "# bool類型的範例\n",
        "\n",
        "print(type(True))\n",
        "print(type(False))\n",
        "\n",
        "t = True\n",
        "f = False\n",
        "print(type(t)) # 輸出 \"<class 'bool'>\"\n",
        "print(t and f) # 邏輯與 AND; 輸出 \"False\"\n",
        "print(t or f)  # 邏輯或 OR; 輸出 \"True\"\n",
        "print(not t)   # 邏輯非 NOT; 輸出 \"False\"\n",
        "print(t != f)  # 邏輯異或 XOR; 輸出 \"True\"\n"
      ],
      "metadata": {
        "colab": {
          "base_uri": "https://localhost:8080/"
        },
        "id": "wHzVyeIqjuei",
        "outputId": "fb2a6309-67b2-44e9-d4e8-73a7233a93c9"
      },
      "execution_count": null,
      "outputs": [
        {
          "output_type": "stream",
          "name": "stdout",
          "text": [
            "<class 'bool'>\n",
            "<class 'bool'>\n",
            "<class 'bool'>\n",
            "False\n",
            "True\n",
            "False\n",
            "True\n"
          ]
        }
      ]
    },
    {
      "cell_type": "code",
      "source": [
        "# Number（數字）：\n",
        "a , b , c , d = 20 , 5.5 , True , 4 + 3j\n",
        "print ( type ( a ), type ( b ), type ( c ), type ( d ))"
      ],
      "metadata": {
        "colab": {
          "base_uri": "https://localhost:8080/"
        },
        "id": "NZj72qoXhxQD",
        "outputId": "74f20895-7f09-48dd-8445-66c287f63601"
      },
      "execution_count": null,
      "outputs": [
        {
          "output_type": "stream",
          "name": "stdout",
          "text": [
            "<class 'int'> <class 'float'> <class 'bool'> <class 'complex'>\n"
          ]
        }
      ]
    },
    {
      "cell_type": "code",
      "source": [
        "# 基本資料類型，使用print 印出並解釋\n",
        "\n",
        "# int\n",
        "print(\"type(1):\", type(1))  # <class 'int'>\n",
        "print(\"1 + 1=\",1 + 1)  # 2\n",
        "\n",
        "a = 1 + 1\n",
        "isinstance (a , int ) # 可以用isinstance 來判斷\n",
        "\n",
        "x = 3\n",
        "print(type(x)) # 輸出 \"<class 'int'>\"\n",
        "print(x)       # 輸出 \"3\"\n",
        "print(x + 1)   # 加法; 輸出 \"4\"\n",
        "print(x - 1)   # 減法; 輸出 \"2\"\n",
        "print(x * 2)   # 乘法; 輸出 \"6\"\n",
        "print(x ** 2)  # 冪運算; 輸出 \"9\"\n",
        "\n",
        "x += 1\n",
        "print(x)  # 輸出 \"4\"\n",
        "\n",
        "x *= 2\n",
        "print(x)  # 輸出 \"8\"\n",
        "\n",
        "y = 2.5\n",
        "print(type(y)) # 輸出 \"<class 'float'>\"\n",
        "print(y, y + 1, y * 2, y ** 2) # 輸出 \"2.5 3.5 5.0 6.25\""
      ],
      "metadata": {
        "colab": {
          "base_uri": "https://localhost:8080/"
        },
        "id": "_abKaGaaY3uY",
        "outputId": "cfeb9d21-1abb-42ac-ef7a-6d742d2e8978"
      },
      "execution_count": null,
      "outputs": [
        {
          "output_type": "stream",
          "name": "stdout",
          "text": [
            "type(1): <class 'int'>\n",
            "1 + 1= 2\n",
            "<class 'int'>\n",
            "3\n",
            "4\n",
            "2\n",
            "6\n",
            "9\n",
            "4\n",
            "8\n",
            "<class 'float'>\n",
            "2.5 3.5 5.0 6.25\n"
          ]
        }
      ]
    },
    {
      "cell_type": "markdown",
      "source": [
        "isinstance 和type 的差別在於：\n",
        "\n",
        "type()不會認為子類別是一種父類別類型。\n",
        "\n",
        "isinstance()會認為子類別是一種父類別類型。"
      ],
      "metadata": {
        "id": "eH7vl7w3nGrF"
      }
    },
    {
      "cell_type": "code",
      "source": [
        "# float 浮點數\n",
        "print(\"type(1.0):\",type(1.0))  # <class 'float'>\n",
        "print(\"1.0 + 1.0 = \" ,1.0 + 1.0)  # 2.0"
      ],
      "metadata": {
        "colab": {
          "base_uri": "https://localhost:8080/"
        },
        "id": "vZZhFPAKm-SI",
        "outputId": "4853d37e-dcf1-45ec-80fb-feeec009eaea"
      },
      "execution_count": null,
      "outputs": [
        {
          "output_type": "stream",
          "name": "stdout",
          "text": [
            "type(1.0): <class 'float'>\n",
            "1.0 + 1.0 =  2.0\n"
          ]
        }
      ]
    },
    {
      "cell_type": "code",
      "source": [
        "# string 字串資料型別\n",
        "print(\"type('hello'):\",type('hello'))  # <class 'str'>\n",
        "print('hello' + ' world')  # hello world\n",
        "hello = 'hello'   # 字符串可以使用單引號\n",
        "world = \"world\"   # 或者雙引號; 區別不大\n",
        "print(hello)       # 輸出 \"hello\"\n",
        "print(len(hello))  # 字符串長度; 輸出 \"5\"\n",
        "hw = hello + ' ' + world  # 字符串連接\n",
        "print(hw)  # 輸出 \"hello world\"\n",
        "hw12 = '%s %s %d' % (hello, world, 12)  # sprintf 風格的字符串格式化\n",
        "print(hw12)  # 輸出 \"hello world 12\"\n",
        "s = \"hello\"\n",
        "print(s.capitalize())  # 將字符串首字母大寫; 輸出 \"Hello\"\n",
        "print(s.upper())       # 將字符串轉換為大寫; 輸出 \"HELLO\"\n",
        "print(s.rjust(7))      # 右對齊字符串，填充空格; 輸出 \"  hello\"\n",
        "print(s.center(7))     # 將字符串居中，多餘位置用空格填充; 輸出 \" hello \"\n",
        "print(s.replace('l', '(ell)'))  # 用一個子串代替另一個子串;\n",
        "                                # 輸出 \"he(ell)(ell)o\"\n",
        "print('  world '.strip())  # 去掉前面和後面的空格; 輸出 \"world\"\n"
      ],
      "metadata": {
        "colab": {
          "base_uri": "https://localhost:8080/"
        },
        "id": "_dsJ2rVnnQOn",
        "outputId": "174def60-911b-4642-f415-2c7904a944f6"
      },
      "execution_count": null,
      "outputs": [
        {
          "output_type": "stream",
          "name": "stdout",
          "text": [
            "type('hello'): <class 'str'>\n",
            "hello world\n",
            "hello\n",
            "5\n",
            "hello world\n",
            "hello world 12\n",
            "Hello\n",
            "HELLO\n",
            "  hello\n",
            " hello \n",
            "he(ell)(ell)o\n",
            "world\n"
          ]
        }
      ]
    },
    {
      "cell_type": "markdown",
      "source": [
        "# 3.Python的一些基本運算,迴圈"
      ],
      "metadata": {
        "id": "Pk-9GxywIq-3"
      }
    },
    {
      "cell_type": "code",
      "source": [
        "# python基本語法的範例\n",
        "\n",
        "# 1. 宣告變數\n",
        "x = 10\n",
        "y = 5\n",
        "# 2. 算術運算\n",
        "print(\"x + y =\",x + y)\n",
        "print(\"x - y =\",x - y)\n",
        "print(\"x * y =\",x * y)\n",
        "print(\"x / y =\",x / y)\n",
        "print(\"x % y =\",x % y)\n",
        "print(\"x ** y =\",x ** y)\n",
        "print(\"x // y =\",x // y)"
      ],
      "metadata": {
        "colab": {
          "base_uri": "https://localhost:8080/"
        },
        "id": "gJDxXeQw8kN5",
        "outputId": "82e28136-4a64-46e4-f1b5-4ec386ee587c"
      },
      "execution_count": null,
      "outputs": [
        {
          "output_type": "stream",
          "name": "stdout",
          "text": [
            "x + y = 15\n",
            "x - y = 5\n",
            "x * y = 50\n",
            "x / y = 2.0\n",
            "x % y = 0\n",
            "x ** y = 100000\n",
            "x // y = 2\n"
          ]
        }
      ]
    },
    {
      "cell_type": "code",
      "source": [
        "x = 10\n",
        "y = 5\n",
        "\n",
        "# 3. 比較運算\n",
        "print(\"x == y =\",x == y)\n",
        "print(\"x != y =\",x != y)\n",
        "print(\"x > y =\",x > y)\n",
        "print(\"x < y =\",x < y)\n",
        "print(\"x >= y =\",x >= y)\n",
        "print(\"x <= y =\",x <= y)\n",
        "\n",
        "# 4. 邏輯運算\n",
        "print(\"not x =\",not x)\n",
        "print(\"x and y =\",x and y)\n",
        "print(\"x or y =\",x or y)\n",
        "\n",
        "# 5. 條件運算\n",
        "if x > y:\n",
        "  print(\"x 大於 y\")\n",
        "else:\n",
        "  print(\"x 小於 y\")\n",
        "\n",
        "# 6. 函數\n",
        "def my_function(x, y):\n",
        "  return x + y\n",
        "\n",
        "my_function(10, 20)"
      ],
      "metadata": {
        "colab": {
          "base_uri": "https://localhost:8080/"
        },
        "id": "ufUvK1b590et",
        "outputId": "31ec095c-7815-4996-ffeb-112de16e1092"
      },
      "execution_count": null,
      "outputs": [
        {
          "output_type": "stream",
          "name": "stdout",
          "text": [
            "x == y = False\n",
            "x != y = True\n",
            "x > y = True\n",
            "x < y = False\n",
            "x >= y = True\n",
            "x <= y = False\n",
            "not x = False\n",
            "x and y = 5\n",
            "x or y = 10\n",
            "x 大於 y\n"
          ]
        },
        {
          "output_type": "execute_result",
          "data": {
            "text/plain": [
              "30"
            ]
          },
          "metadata": {},
          "execution_count": 13
        }
      ]
    },
    {
      "cell_type": "code",
      "source": [
        "# 7.各種迴圈的範例\n",
        "\n",
        "  # 1. for 迴圈\n",
        "for i in range(10):\n",
        "  print(i)\n",
        "\n",
        "print('\\n')\n",
        "  # 2. while 迴圈\n",
        "i = 0\n",
        "while i < 10:\n",
        "  print(i)\n",
        "  i += 1\n",
        "\n",
        "print('\\n')\n",
        "  # 3. break 敘述\n",
        "for i in range(10):\n",
        "  if i == 5:\n",
        "    break\n",
        "  print(i)\n",
        "\n",
        "print('\\n')\n",
        "  # 4. continue 敘述\n",
        "for i in range(10):\n",
        "  if i == 5:\n",
        "    continue\n",
        "  print(i)\n"
      ],
      "metadata": {
        "colab": {
          "base_uri": "https://localhost:8080/"
        },
        "id": "MULp6zte4cP_",
        "outputId": "9352c93d-a563-443f-c42f-f00b37aa35b3"
      },
      "execution_count": null,
      "outputs": [
        {
          "output_type": "stream",
          "name": "stdout",
          "text": [
            "0\n",
            "1\n",
            "2\n",
            "3\n",
            "4\n",
            "5\n",
            "6\n",
            "7\n",
            "8\n",
            "9\n",
            "\n",
            "\n",
            "0\n",
            "1\n",
            "2\n",
            "3\n",
            "4\n",
            "5\n",
            "6\n",
            "7\n",
            "8\n",
            "9\n",
            "\n",
            "\n",
            "0\n",
            "1\n",
            "2\n",
            "3\n",
            "4\n",
            "\n",
            "\n",
            "0\n",
            "1\n",
            "2\n",
            "3\n",
            "4\n",
            "6\n",
            "7\n",
            "8\n",
            "9\n"
          ]
        }
      ]
    },
    {
      "cell_type": "markdown",
      "source": [
        "# 4.容器(Containers)\n",
        "Python 有以下幾種容器類型：列表(lists)、字典(dictionaries)、集合(sets)和元組(tuples).\n",
        "\n",
        "## 列表(Lists)\n",
        "\n",
        "\n",
        "*   可變性：列表是可變的，這意味著我們可以添加、刪除或更改列表中的項目。\n",
        "*   有序性：列表中的項目有一定的順序。這允許我們通過索引來訪問列表中的特定項目。\n",
        "*   異質性：列表可以包含不同類型的對象（數字、字符串、甚至其他列表）。\n",
        "\n"
      ],
      "metadata": {
        "id": "s7X-KF0fluJQ"
      }
    },
    {
      "cell_type": "code",
      "source": [
        "# list 列表資料型別\n",
        "print(type([1, 2, 3]))  # <class 'list'>\n",
        "print([1, 2, 3] + [4, 5, 6])  # [1, 2, 3, 4, 5, 6]\n",
        "xs = [3, 1, 2] # 建立列表\n",
        "print(xs, xs[2]) # 輸出 \"[3, 1, 2] 2\"，從 0 開始索引\n",
        "print(xs[-1]) # 負索引表示從列表結束開始; 輸出 \"2\"\n",
        "xs[2] = 'foo' # 清單可以包含不同類型的元素\n",
        "print(xs) # 輸出 \"[3, 1, 'foo']\"\n",
        "xs.append('bar') # 在清單結尾新增一個新元素\n",
        "print(xs) # 輸出 \"[3, 1, 'foo', 'bar']\"\n",
        "x = xs.pop() # 刪除並傳回清單的最後一個元素\n",
        "print(x, xs) # 輸出 \"bar [3, 1, 'foo']\""
      ],
      "metadata": {
        "colab": {
          "base_uri": "https://localhost:8080/"
        },
        "id": "Utq8ecVznvEe",
        "outputId": "8958c513-3389-418f-dd4a-2f520586ce1b"
      },
      "execution_count": null,
      "outputs": [
        {
          "output_type": "stream",
          "name": "stdout",
          "text": [
            "<class 'list'>\n",
            "[1, 2, 3, 4, 5, 6]\n",
            "[3, 1, 2] 2\n",
            "2\n",
            "[3, 1, 'foo']\n",
            "[3, 1, 'foo', 'bar']\n",
            "bar [3, 1, 'foo']\n"
          ]
        }
      ]
    },
    {
      "cell_type": "markdown",
      "source": [
        "\n",
        "**切片(Slicing)**: 為了一次性地獲取列表中的元素，Python 提供了一種簡潔的語法，\n",
        "這就是切片。下面使用了 range 內置函數，注意區別，Python2 中的 range 返回的是一個列表，Python3 中的 range 返回的是一個迭代值，需要用 list 形成列表。"
      ],
      "metadata": {
        "id": "Kb9EUL1FFGGZ"
      }
    },
    {
      "cell_type": "code",
      "source": [
        "nums = list(range(5))\n",
        "print(nums)         # 輸出 \"[0, 1, 2, 3, 4]\"\n",
        "print(nums[2:4])    # 獲得索引 [2,4) 切片; 輸出 \"[2, 3]\"\n",
        "print(nums[2:])     # 獲得索引 [2,末尾] 切片; 輸出 \"[2, 3, 4]\"\n",
        "print(nums[:2])     # 獲得索引 [起始,2) 切片; 輸出 \"[0, 1]\"\n",
        "print(nums[:])      # 獲得整個列表的切片; 輸出 [\"0, 1, 2, 3, 4]\"\n",
        "print(nums[:-1])    # 切片中的參數也可是負數; 輸出 [\"0, 1, 2, 3]\"\n",
        "nums[2:4] = [8, 9]  # 為切片分配新的子列表\n",
        "print(nums)         # 輸出 \"[0, 1, 8, 9, 4]\""
      ],
      "metadata": {
        "colab": {
          "base_uri": "https://localhost:8080/"
        },
        "id": "3PZTpqZqE8U6",
        "outputId": "aa2f2d32-e98e-458a-ca0e-3e995e5db1a6"
      },
      "execution_count": null,
      "outputs": [
        {
          "output_type": "stream",
          "name": "stdout",
          "text": [
            "[0, 1, 2, 3, 4]\n",
            "[2, 3]\n",
            "[2, 3, 4]\n",
            "[0, 1]\n",
            "[0, 1, 2, 3, 4]\n",
            "[0, 1, 2, 3]\n",
            "[0, 1, 8, 9, 4]\n"
          ]
        }
      ]
    },
    {
      "cell_type": "markdown",
      "source": [
        "在 Numpy 數組的內容中，我們會再次看到切片語法。\n",
        "\n",
        "**循環(Loops)**: 我們可以這樣遍歷列表中的每一個元素："
      ],
      "metadata": {
        "id": "RLugG9nBJIEj"
      }
    },
    {
      "cell_type": "code",
      "source": [
        "animals = ['cat', 'dog', 'monkey']\n",
        "for animal in animals:\n",
        "    print(animal)\n",
        "# 輸出 \"cat\", \"dog\", \"monkey\""
      ],
      "metadata": {
        "colab": {
          "base_uri": "https://localhost:8080/"
        },
        "id": "WS2mTekyOO-Z",
        "outputId": "a013e3d0-a372-4e63-fa61-6fa5f0fba655"
      },
      "execution_count": null,
      "outputs": [
        {
          "output_type": "stream",
          "name": "stdout",
          "text": [
            "cat\n",
            "dog\n",
            "monkey\n"
          ]
        }
      ]
    },
    {
      "cell_type": "markdown",
      "source": [
        "如果想要在循环体内访问每个元素的指针，可以使用内置的 `enumerate` 函数："
      ],
      "metadata": {
        "id": "OHp67Q7JOe1m"
      }
    },
    {
      "cell_type": "code",
      "source": [
        "animals = ['cat', 'dog', 'monkey']\n",
        "for idx, animal in enumerate(animals):\n",
        "    print('#%d: %s' % (idx + 1, animal))\n",
        "# 輸出 \"#1: cat\", \"#2: dog\", \"#3: monkey\", 每個佔一行"
      ],
      "metadata": {
        "colab": {
          "base_uri": "https://localhost:8080/"
        },
        "id": "TxGeCZRNOjcq",
        "outputId": "4373db23-a066-4144-b17a-a74224595b3e"
      },
      "execution_count": null,
      "outputs": [
        {
          "output_type": "stream",
          "name": "stdout",
          "text": [
            "#1: cat\n",
            "#2: dog\n",
            "#3: monkey\n"
          ]
        }
      ]
    },
    {
      "cell_type": "markdown",
      "source": [
        "列表推導(List comprehensions): 在程式設計的時候，我們常常想要將一種資料型別轉換成另一種資料。 下面是一個簡單例子，將清單中的每個元素變成它的平方。"
      ],
      "metadata": {
        "id": "OXuj4UOFCOf8"
      }
    },
    {
      "cell_type": "code",
      "source": [
        "nums = [0, 1, 2, 3, 4]\n",
        "squares = []\n",
        "for x in nums:\n",
        "    squares.append(x ** 2)\n",
        "print(squares)   # 輸出 [0, 1, 4, 9, 16]"
      ],
      "metadata": {
        "colab": {
          "base_uri": "https://localhost:8080/"
        },
        "id": "6qG_PTOyCTD3",
        "outputId": "810d4d47-41f0-45b5-f577-23c276bbaa92"
      },
      "execution_count": null,
      "outputs": [
        {
          "output_type": "stream",
          "name": "stdout",
          "text": [
            "[0, 1, 4, 9, 16]\n"
          ]
        }
      ]
    },
    {
      "cell_type": "markdown",
      "source": [
        "使用列表推導，你就可以讓程式碼簡化很多：\n"
      ],
      "metadata": {
        "id": "8m_-Q5gKCdeM"
      }
    },
    {
      "cell_type": "code",
      "source": [
        "nums = [0, 1, 2, 3, 4]\n",
        "squares = [x ** 2 for x in nums]\n",
        "print(squares)   # 輸出 [0, 1, 4, 9, 16]"
      ],
      "metadata": {
        "colab": {
          "base_uri": "https://localhost:8080/"
        },
        "id": "Z5Kiteu-CnD_",
        "outputId": "a2f73d74-a5d4-4d5b-916f-44d42e51e70d"
      },
      "execution_count": null,
      "outputs": [
        {
          "output_type": "stream",
          "name": "stdout",
          "text": [
            "[0, 1, 4, 9, 16]\n"
          ]
        }
      ]
    },
    {
      "cell_type": "markdown",
      "source": [
        "列表推導也可以包含條件："
      ],
      "metadata": {
        "id": "1R5iW9A3CyKY"
      }
    },
    {
      "cell_type": "code",
      "source": [
        "nums = [0, 1, 2, 3, 4]\n",
        "even_squares = [x ** 2 for x in nums if x % 2 == 0]\n",
        "print(even_squares)  # 輸出 \"[0, 4, 16]\""
      ],
      "metadata": {
        "colab": {
          "base_uri": "https://localhost:8080/"
        },
        "id": "2zmycTUsC0nD",
        "outputId": "746719de-a6c8-49c7-8601-eae7f9ce62d4"
      },
      "execution_count": null,
      "outputs": [
        {
          "output_type": "stream",
          "name": "stdout",
          "text": [
            "[0, 4, 16]\n"
          ]
        }
      ]
    },
    {
      "cell_type": "markdown",
      "source": [
        "## 元組(tuples)\n",
        "\n",
        "\n",
        "*   特點：元組是一種不可變序列，意味著一旦創建了元組，就不能對其進行修改。\n",
        "*   結構：元組的元素通常被包含在小括號()中，元素之間用逗號分隔。\n",
        "*   用途：適合用於保護數據不被改動的場合。常見於函數的參數和返回值。\n",
        "\n"
      ],
      "metadata": {
        "id": "HQTp8fkpF_zF"
      }
    },
    {
      "cell_type": "code",
      "source": [
        "# tuple 元組\n",
        "print(type((1, 2, 3)))  # <class 'tuple'>\n",
        "print((1, 2, 3) + (4, 5, 6))  # (1, 2, 3, 4, 5, 6)\n",
        "d = {(x, x + 1): x for x in range(10)} # 使用元組作為鍵建立字典\n",
        "print(d)\n",
        "t = (5, 6) # 建立一個元組\n",
        "print(type(t)) # 輸出 \"<class 'tuple'>\"\n",
        "print(d[t]) # 輸出 \"5\"\n",
        "print(d[(1, 2)]) # 輸出 \"1\""
      ],
      "metadata": {
        "colab": {
          "base_uri": "https://localhost:8080/"
        },
        "id": "zdYvoDbPoxJI",
        "outputId": "97ac75c6-581f-41e0-9fe5-d6fabce05513"
      },
      "execution_count": null,
      "outputs": [
        {
          "output_type": "stream",
          "name": "stdout",
          "text": [
            "<class 'tuple'>\n",
            "(1, 2, 3, 4, 5, 6)\n",
            "{(0, 1): 0, (1, 2): 1, (2, 3): 2, (3, 4): 3, (4, 5): 4, (5, 6): 5, (6, 7): 6, (7, 8): 7, (8, 9): 8, (9, 10): 9}\n",
            "<class 'tuple'>\n",
            "5\n",
            "1\n"
          ]
        }
      ]
    },
    {
      "cell_type": "markdown",
      "source": [
        "## 集合(sets)\n",
        "\n",
        "*   特點：集合是一個無序且不包含重複元素的數據結構。\n",
        "*   結構：基於數學上的集合概念，集合支持如聯合、交集、差集等操作。\n",
        "*   用途：適用於需要進行成員存在性測試、去除重複元素的場景。\n",
        "\n",
        "\n",
        "\n"
      ],
      "metadata": {
        "id": "tVcxINwdGKFP"
      }
    },
    {
      "cell_type": "code",
      "source": [
        "# set 集合\n",
        "print(type({1, 2, 3}))  # <class 'set'>\n",
        "print({1, 2, 3} | {4, 5, 6})  # {1, 2, 3, 4, 5, 6}\n",
        "animals = {'cat', 'dog'}\n",
        "print('cat' in animals) # 檢查一個元素是否在一個集合中; 輸出 \"True\"\n",
        "print('fish' in animals) # 輸出 \"False\"\n",
        "animals.add('fish') # 在集合中加入一個元素\n",
        "print('fish' in animals) # 輸出 \"True\"\n",
        "print(len(animals)) # 集合中元素的個數; 輸出 \"3\"\n",
        "animals.add('cat') # 新增集合中已經存在的元素沒有任何作用\n",
        "print(len(animals)) # 輸出 \"3\"\n",
        "animals.remove('cat') # 從集合中移除一個元素\n",
        "print(len(animals)) # 輸出 \"2\""
      ],
      "metadata": {
        "colab": {
          "base_uri": "https://localhost:8080/"
        },
        "id": "0a0FjkvKo6u4",
        "outputId": "0ea1fec0-fc33-47f8-9503-409475b7aacd"
      },
      "execution_count": null,
      "outputs": [
        {
          "output_type": "stream",
          "name": "stdout",
          "text": [
            "<class 'set'>\n",
            "{1, 2, 3, 4, 5, 6}\n",
            "True\n",
            "False\n",
            "True\n",
            "3\n",
            "3\n",
            "2\n"
          ]
        }
      ]
    },
    {
      "cell_type": "markdown",
      "source": [
        "循環(Loops): 在集合中循環的語法和在列表中一樣，但是集合是無序的，所以你在訪問集合的元素的時候，不能做關於順序的假設。"
      ],
      "metadata": {
        "id": "ylx0tYENEn6p"
      }
    },
    {
      "cell_type": "code",
      "source": [
        "animals = {'cat', 'dog', 'fish'}\n",
        "for idx, animal in enumerate(animals):\n",
        "     print('#%d: %s' % (idx + 1, animal))\n",
        "# 不能假設輸出 \"#1: cat\", \"#2: dog\", \"#3: fish\""
      ],
      "metadata": {
        "colab": {
          "base_uri": "https://localhost:8080/"
        },
        "id": "SJNApzy-EzSa",
        "outputId": "6f0a03c7-9d21-4af5-80e5-0dc353ca4137"
      },
      "execution_count": null,
      "outputs": [
        {
          "output_type": "stream",
          "name": "stdout",
          "text": [
            "#1: cat\n",
            "#2: dog\n",
            "#3: fish\n"
          ]
        }
      ]
    },
    {
      "cell_type": "markdown",
      "source": [
        "集合推導(Set comprehensions): 和字典推導一樣，可以很方便地建構集合："
      ],
      "metadata": {
        "id": "3n6LniufE9gM"
      }
    },
    {
      "cell_type": "code",
      "source": [
        "from math import sqrt\n",
        "nums = {int(sqrt(x)) for x in range(30)}\n",
        "print(nums)  # 輸出 \"([0, 1, 2, 3, 4, 5])\""
      ],
      "metadata": {
        "colab": {
          "base_uri": "https://localhost:8080/"
        },
        "id": "3Woaj4v6FANo",
        "outputId": "dd97c1e2-54a2-465b-82cb-bad7de68f18d"
      },
      "execution_count": null,
      "outputs": [
        {
          "output_type": "stream",
          "name": "stdout",
          "text": [
            "{0, 1, 2, 3, 4, 5}\n"
          ]
        }
      ]
    },
    {
      "cell_type": "markdown",
      "source": [
        "## 字典(dictionaries)\n",
        "\n",
        "\n",
        "*   特點：字典是一種可變容器模型，能夠存儲任意類型對象，如字符串、數字、元組等。\n",
        "*   結構：字典的每個鍵值(key=>value)對用冒號(:)分割，每個對之間用逗號(,)分割，整個字典包括在花括號{}中。\n",
        "*   用途：適合於需要通過鍵來快速存取數據的場合。例如，用戶信息的存儲、數據庫查詢結果的表示等。\n",
        "\n",
        "\n",
        "\n"
      ],
      "metadata": {
        "id": "3mU9RjEgGMP8"
      }
    },
    {
      "cell_type": "code",
      "source": [
        "# dictionary 字典\n",
        "print(type({'name': 'John', 'age': 30}))  # <class 'dict'>\n",
        "print({'name': 'John', 'age': 30} | {'name': 'Mary', 'age': 25})  # {'name': 'John', 'age': 30, 'name': 'Mary', 'age': 25}\n",
        "d = {'cat': 'cute', 'dog': 'furry'} # 用一些資料建立一個新字典\n",
        "print(d['cat']) # 從字典取得條目; 輸出 \"cute\"\n",
        "print('cat' in d) # 檢查字典是否有給定的鍵; 輸出 \"True\"\n",
        "d['fish'] = 'wet' # 在字典中設定條目\n",
        "print(d['fish']) # 輸出 \"wet\"\n",
        "# print(d['monkey']) # KeyError: 'monkey' not a key of d\n",
        "print(d.get('monkey', 'N/A')) # 取得具有預設值的元素; 輸出 \"N/A\"\n",
        "print(d.get('fish', 'N/A')) # 取得具有預設值的元素; 輸出 \"wet\"\n",
        "del d['fish'] # 從字典中刪除一個元素\n",
        "print(d.get('fish', 'N/A')) # \"fish\" 不再是一個鍵; 輸出 \"N/A\""
      ],
      "metadata": {
        "colab": {
          "base_uri": "https://localhost:8080/"
        },
        "id": "sig-17ouf3v5",
        "outputId": "23e064f4-d4ce-4c3a-a48e-6c501afc5988"
      },
      "execution_count": null,
      "outputs": [
        {
          "output_type": "stream",
          "name": "stdout",
          "text": [
            "<class 'dict'>\n",
            "{'name': 'Mary', 'age': 25}\n",
            "cute\n",
            "True\n",
            "wet\n",
            "N/A\n",
            "wet\n",
            "N/A\n"
          ]
        }
      ]
    },
    {
      "cell_type": "markdown",
      "source": [
        "循環(Loops): 在字典中，用鍵迭代更加容易。"
      ],
      "metadata": {
        "id": "LOBLHgCeDVsX"
      }
    },
    {
      "cell_type": "code",
      "source": [
        "d = {'person': 2, 'cat': 4, 'spider': 8}\n",
        "for animal in d:\n",
        "    legs = d[animal]\n",
        "    print('A %s has %d legs' % (animal, legs))\n",
        "# 輸出 \"A person has 2 legs\", \"A spider has 8 legs\", \"A cat has 4 legs\""
      ],
      "metadata": {
        "colab": {
          "base_uri": "https://localhost:8080/"
        },
        "id": "PG-gnBxsDcSS",
        "outputId": "b73f61c3-2497-4848-e34b-3d8d2e02492f"
      },
      "execution_count": null,
      "outputs": [
        {
          "output_type": "stream",
          "name": "stdout",
          "text": [
            "A person has 2 legs\n",
            "A cat has 4 legs\n",
            "A spider has 8 legs\n"
          ]
        }
      ]
    },
    {
      "cell_type": "markdown",
      "source": [
        "如果你想要存取鍵和對應的值，那就使用 `items` 方法："
      ],
      "metadata": {
        "id": "NA5k3Af5Dnn0"
      }
    },
    {
      "cell_type": "code",
      "source": [
        "d = {'person': 2, 'cat': 4, 'spider': 8}\n",
        "for animal, legs in d.items():\n",
        "    print('A %s has %d legs' % (animal, legs))\n",
        "# 輸出 \"一個人有 2 條腿\", \"一隻蜘蛛有 8 條腿\", \"一隻貓有 4 條腿\""
      ],
      "metadata": {
        "colab": {
          "base_uri": "https://localhost:8080/"
        },
        "id": "fbyu87LhDubJ",
        "outputId": "ed876402-89ed-48d5-f100-9c3cac61bfd7"
      },
      "execution_count": null,
      "outputs": [
        {
          "output_type": "stream",
          "name": "stdout",
          "text": [
            "A person has 2 legs\n",
            "A cat has 4 legs\n",
            "A spider has 8 legs\n"
          ]
        }
      ]
    },
    {
      "cell_type": "markdown",
      "source": [
        "字典推導(Dictionary comprehensions): 和列表推導類似，但是允許你方便地建立字典。"
      ],
      "metadata": {
        "id": "M8vD8bBLD5SJ"
      }
    },
    {
      "cell_type": "code",
      "source": [
        "nums = [0, 1, 2, 3, 4]\n",
        "even_num_to_square = {x: x ** 2 for x in nums if x % 2 == 0}\n",
        "print(even_num_to_square)  # 輸出 \"{0: 0, 2: 4, 4: 16}\""
      ],
      "metadata": {
        "colab": {
          "base_uri": "https://localhost:8080/"
        },
        "id": "IQtjubNFD8Wp",
        "outputId": "48a3b135-c3c8-4bff-82e3-a207bb74dd12"
      },
      "execution_count": null,
      "outputs": [
        {
          "output_type": "stream",
          "name": "stdout",
          "text": [
            "{0: 0, 2: 4, 4: 16}\n"
          ]
        }
      ]
    },
    {
      "cell_type": "markdown",
      "source": [
        "# 5.函數(Functions)\n",
        "Python 函數使用 def 來定義函數："
      ],
      "metadata": {
        "id": "3tuvPvkdDqtw"
      }
    },
    {
      "cell_type": "code",
      "source": [
        "def sign(x):\n",
        "    if x > 0:\n",
        "        return 'positive'\n",
        "    elif x < 0:\n",
        "        return 'negative'\n",
        "    else:\n",
        "        return 'zero'\n",
        "\n",
        "for x in [-1, 0, 1]:\n",
        "    print(sign(x))\n",
        "# 輸出 \"negative\", \"zero\", \"positive\""
      ],
      "metadata": {
        "colab": {
          "base_uri": "https://localhost:8080/"
        },
        "id": "kqowk2JRD5Am",
        "outputId": "f0eb5c62-a7bd-4e2c-8704-96d25cc7f208"
      },
      "execution_count": null,
      "outputs": [
        {
          "output_type": "stream",
          "name": "stdout",
          "text": [
            "negative\n",
            "zero\n",
            "positive\n"
          ]
        }
      ]
    },
    {
      "cell_type": "markdown",
      "source": [
        "我們常常使用可選參數來定義函數："
      ],
      "metadata": {
        "id": "IytZ1cSsELPY"
      }
    },
    {
      "cell_type": "code",
      "source": [
        "def hello(name, loud=False):\n",
        "    if loud:\n",
        "        print('HELLO, %s' % name.upper())\n",
        "    else:\n",
        "        print('Hello, %s!' % name)\n",
        "\n",
        "hello('Bob') # 輸出 \"Hello, Bob\"\n",
        "hello('Fred', loud=True)  # 輸出 \"HELLO, FRED!\""
      ],
      "metadata": {
        "colab": {
          "base_uri": "https://localhost:8080/"
        },
        "id": "RgTpUFndETRs",
        "outputId": "f89f9190-9bfa-4bf4-8819-566237c2f8f4"
      },
      "execution_count": null,
      "outputs": [
        {
          "output_type": "stream",
          "name": "stdout",
          "text": [
            "Hello, Bob!\n",
            "HELLO, FRED\n"
          ]
        }
      ]
    },
    {
      "cell_type": "code",
      "source": [
        "# class跟function的範例\n",
        "\n",
        "class Employee:\n",
        "  def __init__(self, name, age, salary):\n",
        "    self.name = name\n",
        "    self.age = age\n",
        "    self.salary = salary\n",
        "\n",
        "  def get_name(self):\n",
        "    return self.name\n",
        "\n",
        "  def get_age(self):\n",
        "    return self.age\n",
        "\n",
        "  def get_salary(self):\n",
        "    return self.salary\n",
        "\n",
        "  def set_name(self, name):\n",
        "    self.name = name\n",
        "\n",
        "  def set_age(self, age):\n",
        "    self.age = age\n",
        "\n",
        "  def set_salary(self, salary):\n",
        "    self.salary = salary\n",
        "\n",
        "  def __str__(self):\n",
        "    return \"Employee(name={}, age={}, salary={})\".format(self.name, self.age, self.salary)\n",
        "\n",
        "\n",
        "Mark = Employee(\"Mark\", 44, 55)\n",
        "print(Mark)\n",
        "\n",
        "class My_class:\n",
        "  def __init__(self, x, y):\n",
        "    self.x = x\n",
        "    self.y = y\n",
        "\n",
        "  def add(self):\n",
        "    return self.x + self.y\n",
        "\n",
        "my_class = My_class(10, 20)\n",
        "my_class.add()\n"
      ],
      "metadata": {
        "colab": {
          "base_uri": "https://localhost:8080/"
        },
        "id": "2DMXT3vS_O2Y",
        "outputId": "60894751-8e73-4046-f30b-c8da1b33b540"
      },
      "execution_count": null,
      "outputs": [
        {
          "output_type": "stream",
          "name": "stdout",
          "text": [
            "Employee(name=Mark, age=44, salary=55)\n"
          ]
        },
        {
          "output_type": "execute_result",
          "data": {
            "text/plain": [
              "30"
            ]
          },
          "metadata": {},
          "execution_count": 16
        }
      ]
    },
    {
      "cell_type": "markdown",
      "source": [
        "# 6.類別(Classes)\n",
        "\n",
        "Python 對於類別的定義是簡單直接的："
      ],
      "metadata": {
        "id": "a-ajufP3ErEX"
      }
    },
    {
      "cell_type": "code",
      "source": [
        "class Greeter(object):\n",
        "\n",
        "    # 建構函數\n",
        "    def __init__(self, name):\n",
        "        self.name = name  # 建立實例變數\n",
        "\n",
        "    # 實例方法\n",
        "    def greet(self, loud=False):\n",
        "        if loud:\n",
        "            print('HELLO, %s!' % self.name.upper())\n",
        "        else:\n",
        "            print('Hello, %s' % self.name)\n",
        "\n",
        "g = Greeter('Fred')  # 建構 Greeter 類別的實例\n",
        "g.greet()            # 呼叫實例方法; 輸出 \"Hello, Fred\"\n",
        "g.greet(loud=True)   # 呼叫實例方法; 輸出 \"HELLO, FRED!\""
      ],
      "metadata": {
        "colab": {
          "base_uri": "https://localhost:8080/"
        },
        "id": "Wht7nl3OFVXy",
        "outputId": "611b8216-c717-4cf7-86f6-0e50713a59d5"
      },
      "execution_count": null,
      "outputs": [
        {
          "output_type": "stream",
          "name": "stdout",
          "text": [
            "Hello, Fred\n",
            "HELLO, FRED!\n"
          ]
        }
      ]
    },
    {
      "cell_type": "markdown",
      "source": [
        "# 7.文字檔創建,讀取以及修改\n",
        "\n",
        "以下是簡單的範例，可供參考。"
      ],
      "metadata": {
        "id": "hRpdWrpYF176"
      }
    },
    {
      "cell_type": "code",
      "source": [
        "# 使用python創建 myfile.txt 然後進行讀取內容以及修改\n",
        "\n",
        "with open('myfile.txt', 'w') as f:\n",
        "  f.write('Hello, World!')\n",
        "\n",
        "with open('myfile.txt', 'r') as f:\n",
        "  print(f.read())\n",
        "\n",
        "with open('myfile.txt', 'a') as f:\n",
        "  f.write('\\nGoodbye, World!')\n",
        "\n",
        "with open('myfile.txt', 'r') as f:\n",
        "  print(f.read())\n"
      ],
      "metadata": {
        "colab": {
          "base_uri": "https://localhost:8080/"
        },
        "id": "DO7nDW01dMmD",
        "outputId": "10f6ecbc-fd23-4925-d087-0cb6b59166b4"
      },
      "execution_count": null,
      "outputs": [
        {
          "output_type": "stream",
          "name": "stdout",
          "text": [
            "Hello, World!\n",
            "Hello, World!\n",
            "Goodbye, World!\n"
          ]
        }
      ]
    },
    {
      "cell_type": "markdown",
      "source": [
        "# 8.模組導入以及使用\n",
        "\n",
        "上面說的模組其實可以看作別人寫的一頁或多頁的程式碼或是一個特定的class"
      ],
      "metadata": {
        "id": "5aQxt4K8GQ_K"
      }
    },
    {
      "cell_type": "code",
      "source": [
        "# 模組的應用\n",
        "\n",
        "import math\n",
        "import random\n",
        "\n",
        "def add(a, b):\n",
        "  return a + b\n",
        "\n",
        "def subtract(a, b):\n",
        "  return a - b\n",
        "\n",
        "def multiply(a, b):\n",
        "  return a * b\n",
        "\n",
        "def divide(a, b):\n",
        "  return a / b\n",
        "\n",
        "def square(a):\n",
        "  return a ** 2\n",
        "\n",
        "def cube(a):\n",
        "  return a ** 3\n",
        "\n",
        "def factorial(n):\n",
        "  if n == 0:\n",
        "    return 1\n",
        "  else:\n",
        "    return n * factorial(n - 1)\n",
        "\n",
        "def is_prime(n):\n",
        "  if n < 2:\n",
        "    return False\n",
        "  for i in range(2, int(math.sqrt(n)) + 1):\n",
        "    if n % i == 0:\n",
        "      return False\n",
        "  return True\n",
        "\n",
        "def generate_random_number(min, max):\n",
        "  return random.randint(min, max)\n",
        "\n",
        "def main():\n",
        "  print(\"Enter two numbers: \")\n",
        "  a = int(input())\n",
        "  b = int(input())\n",
        "\n",
        "  print(\"The sum of\", a, \"and\", b, \"is\", add(a, b))\n",
        "  print(\"The difference between\", a, \"and\", b, \"is\", subtract(a, b))\n",
        "  print(\"The product of\", a, \"and\", b, \"is\", multiply(a, b))\n",
        "  print(\"The quotient of\", a, \"and\", b, \"is\", divide(a, b))\n",
        "  print(\"The square of\", a, \"is\", square(a))\n",
        "  print(\"The cube of\", a, \"is\", cube(a))\n",
        "  print(\"The factorial of\", a, \"is\", factorial(a))\n",
        "\n",
        "  if is_prime(a):\n",
        "    print(a, \"is a prime number.\")\n",
        "  else:\n",
        "    print(a, \"is not a prime number.\")\n",
        "\n",
        "  if a > b:\n",
        "    max = a\n",
        "    min = b\n",
        "  else:\n",
        "    min = a\n",
        "    max = b\n",
        "  print(\"A random number between\", min, \"and\", max, \"is\", generate_random_number(min, max))\n",
        "\n",
        "if __name__ == \"__main__\":\n",
        "  main()\n"
      ],
      "metadata": {
        "colab": {
          "base_uri": "https://localhost:8080/"
        },
        "id": "vjShUG3edHo7",
        "outputId": "5d388198-74e8-47f1-a638-6a4face810db"
      },
      "execution_count": null,
      "outputs": [
        {
          "output_type": "stream",
          "name": "stdout",
          "text": [
            "Enter two numbers: \n",
            "4\n",
            "10\n",
            "The sum of 4 and 10 is 14\n",
            "The difference between 4 and 10 is -6\n",
            "The product of 4 and 10 is 40\n",
            "The quotient of 4 and 10 is 0.4\n",
            "The square of 4 is 16\n",
            "The cube of 4 is 64\n",
            "The factorial of 4 is 24\n",
            "4 is not a prime number.\n",
            "A random number between 4 and 10 is 8\n"
          ]
        }
      ]
    },
    {
      "cell_type": "code",
      "source": [
        "# 直接調用模組\n",
        "import math\n",
        "\n",
        "math.sqrt(4)\n"
      ],
      "metadata": {
        "id": "ESIhg3arWFJs",
        "colab": {
          "base_uri": "https://localhost:8080/"
        },
        "outputId": "dcab1e4d-651c-4903-839b-ac0b9d4c5071"
      },
      "execution_count": null,
      "outputs": [
        {
          "output_type": "execute_result",
          "data": {
            "text/plain": [
              "2.0"
            ]
          },
          "metadata": {},
          "execution_count": 5
        }
      ]
    },
    {
      "cell_type": "code",
      "source": [
        "# 包裝出一個圖表函數並import 該函數的應用範例\n",
        "\n",
        "import matplotlib.pyplot as plt\n",
        "\n",
        "def plot_data(x, y):\n",
        "  plt.plot(x, y)\n",
        "  plt.xlabel(\"x\")\n",
        "  plt.ylabel(\"y\")\n",
        "  plt.title(\"My Plot\")\n",
        "  plt.show()\n",
        "\n",
        "# Example usage\n",
        "x = [1, 2, 3, 4, 5]\n",
        "y = [2, 4, 6, 8, 10]\n",
        "\n",
        "plot_data(x, y)"
      ],
      "metadata": {
        "colab": {
          "base_uri": "https://localhost:8080/",
          "height": 472
        },
        "id": "xYixBW9g0i6T",
        "outputId": "356dc321-a410-4705-b8f5-347093903870"
      },
      "execution_count": null,
      "outputs": [
        {
          "output_type": "display_data",
          "data": {
            "text/plain": [
              "<Figure size 640x480 with 1 Axes>"
            ],
            "image/png": "[encoded data removed]"
          },
          "metadata": {}
        }
      ]
    },
    {
      "cell_type": "code",
      "source": [
        "# 寫一頁python程式碼以供等等調用\n",
        "%%writefile tutorial.py\n",
        "\n",
        "t_value = 11\n",
        "\n",
        "def add_t(t_llist):\n",
        "  t_sum = 0\n",
        "  for i in range(len(t_llist)):\n",
        "    t_sum += t_llist[i]\n",
        "  return t_sum\n",
        "t_llist = [1, 2, 3, 4, 5]\n",
        "print(add_t(t_llist))\n",
        "\n",
        "# Overwriting tutorial.py"
      ],
      "metadata": {
        "colab": {
          "base_uri": "https://localhost:8080/"
        },
        "id": "2jdaSt_YIl1J",
        "outputId": "19fc292e-b535-4539-f93e-84ea30330506"
      },
      "execution_count": null,
      "outputs": [
        {
          "output_type": "stream",
          "name": "stdout",
          "text": [
            "Overwriting tutorial.py\n"
          ]
        }
      ]
    },
    {
      "cell_type": "markdown",
      "source": [
        "測試剛剛寫的程式碼是否可以調用"
      ],
      "metadata": {
        "id": "aR1MMibFK5_l"
      }
    },
    {
      "cell_type": "code",
      "source": [
        "%run tutorial.py"
      ],
      "metadata": {
        "colab": {
          "base_uri": "https://localhost:8080/"
        },
        "id": "Cm3sRyGeJ1Ra",
        "outputId": "129fd08e-a2fe-4625-ae6c-c6c4ae271cdc"
      },
      "execution_count": null,
      "outputs": [
        {
          "output_type": "stream",
          "name": "stdout",
          "text": [
            "15\n"
          ]
        }
      ]
    },
    {
      "cell_type": "markdown",
      "source": [
        "直接導入並使用"
      ],
      "metadata": {
        "id": "as4aA2biLF4Z"
      }
    },
    {
      "cell_type": "code",
      "source": [
        "import tutorial\n",
        "\n",
        "tutorial\n",
        "\n",
        "print(tutorial.t_value)\n",
        "\n",
        "t_llist = [10, 32, -3, 41, 25]\n",
        "\n",
        "print(tutorial.add_t(t_llist))"
      ],
      "metadata": {
        "colab": {
          "base_uri": "https://localhost:8080/"
        },
        "id": "TP9LTXpbKWTw",
        "outputId": "0da50c40-90ea-44d7-f120-1f5304defcdc"
      },
      "execution_count": null,
      "outputs": [
        {
          "output_type": "stream",
          "name": "stdout",
          "text": [
            "11\n",
            "105\n"
          ]
        }
      ]
    },
    {
      "cell_type": "markdown",
      "source": [
        "# 9.異常處理模塊\n",
        "\n",
        "這邊的try exception 跟java ,c++類似"
      ],
      "metadata": {
        "id": "A96klFpkLwKy"
      }
    },
    {
      "cell_type": "code",
      "source": [
        "# prompt: try exception 以及其他異常處理的範例\n",
        "\n",
        "try:\n",
        "  # Code that may raise an exception\n",
        "  x = 1 / 0\n",
        "except ZeroDivisionError:\n",
        "  # Code to handle the exception\n",
        "  print(\"Division by zero error\")\n",
        "except:\n",
        "  # Code to handle any other exception\n",
        "  print(\"An unexpected error occurred\")\n",
        "finally:\n",
        "  # Code that will always be executed, regardless of whether an exception is raised\n",
        "  print(\"This will always be executed\")\n",
        "\n",
        "# Another example\n",
        "try:\n",
        "  # Open a file that may not exist\n",
        "  f = open(\"myfile.txt\", \"r\")\n",
        "except FileNotFoundError:\n",
        "  # Code to handle the exception\n",
        "  print(\"File not found\")\n",
        "except:\n",
        "  # Code to handle any other exception\n",
        "  print(\"An unexpected error occurred\")\n",
        "else:\n",
        "  # Code to execute if no exception is raised\n",
        "  print(\"File opened successfully\")\n",
        "  f.close()\n",
        "finally:\n",
        "  # Code that will always be executed, regardless of whether an exception is raised\n",
        "  print(\"This will always be executed\")\n"
      ],
      "metadata": {
        "colab": {
          "base_uri": "https://localhost:8080/"
        },
        "id": "MRpzSJTcMGnf",
        "outputId": "0c5bf4a7-bb4b-45f5-b9ef-79834ad59cf3"
      },
      "execution_count": null,
      "outputs": [
        {
          "output_type": "stream",
          "name": "stdout",
          "text": [
            "Division by zero error\n",
            "This will always be executed\n",
            "File not found\n",
            "This will always be executed\n"
          ]
        }
      ]
    },
    {
      "cell_type": "markdown",
      "source": [
        "# 10.Python 練習以及深入\n",
        "\n",
        "[Python - 100天從新手到大師（繁體中文）](https://github.com/ateliershen/Python-100-Days-zh_TW)\n",
        "\n",
        "[Python 必做練習題](https://hackmd.io/@SCIST/info_sum/https%3A%2F%2Fhackmd.io%2F%40SCIST%2Fpython_writeup)"
      ],
      "metadata": {
        "id": "yBr34tSgp6HF"
      }
    }
  ]
}
