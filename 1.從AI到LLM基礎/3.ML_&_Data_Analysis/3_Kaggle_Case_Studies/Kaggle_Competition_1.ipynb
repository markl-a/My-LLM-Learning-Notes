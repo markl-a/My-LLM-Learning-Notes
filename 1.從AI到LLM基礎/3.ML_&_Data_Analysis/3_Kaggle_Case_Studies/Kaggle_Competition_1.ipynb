{
 "cells": [
  {
   "cell_type": "markdown",
   "metadata": {},
   "source": [
    "# Kaggle 泰坦尼克生存預測競賽\n",
    "\n",
    "## 目錄\n",
    "1. 數據載入與初步探索\n",
    "2. 探索性數據分析 (EDA)\n",
    "3. 特徵工程\n",
    "4. 模型訓練與評估\n",
    "5. 模型優化\n",
    "6. 結果提交\n",
    "\n",
    "## 環境準備"
   ]
  },
  {
   "cell_type": "code",
   "execution_count": null,
   "metadata": {},
   "outputs": [],
   "source": [
    "# 導入必要的庫\n",
    "import numpy as np\n",
    "import pandas as pd\n",
    "import matplotlib.pyplot as plt\n",
    "import seaborn as sns\n",
    "from sklearn.model_selection import train_test_split, cross_val_score\n",
    "from sklearn.preprocessing import StandardScaler, LabelEncoder\n",
    "from sklearn.impute import SimpleImputer\n",
    "from sklearn.ensemble import RandomForestClassifier\n",
    "from sklearn.metrics import accuracy_score, classification_report\n",
    "import xgboost as xgb\n",
    "import warnings\n",
    "warnings.filterwarnings('ignore')\n",
    "\n",
    "# 設置顯示選項\n",
    "pd.set_option('display.max_columns', None)\n",
    "plt.style.use('seaborn')\n",
    "%matplotlib inline"
   ]
  },
  {
   "cell_type": "markdown",
   "metadata": {},
   "source": [
    "## 1. 數據載入與初步探索"
   ]
  },
  {
   "cell_type": "code",
   "execution_count": null,
   "metadata": {},
   "outputs": [],
   "source": [
    "# 載入訓練和測試數據\n",
    "train_df = pd.read_csv('train.csv')\n",
    "test_df = pd.read_csv('test.csv')\n",
    "\n",
    "# 查看訓練數據基本信息\n",
    "print(\"訓練數據形狀:\", train_df.shape)\n",
    "print(\"\\n訓練數據基本信息:\")\n",
    "print(train_df.info())\n",
    "\n",
    "# 查看數據前幾行\n",
    "print(\"\\n訓練數據預覽:\")\n",
    "print(train_df.head())\n",
    "\n",
    "# 基本統計描述\n",
    "print(\"\\n數值特徵統計描述:\")\n",
    "print(train_df.describe())"
   ]
  },
  {
   "cell_type": "markdown",
   "metadata": {},
   "source": [
    "## 2. 探索性數據分析 (EDA)"
   ]
  },
  {
   "cell_type": "code",
   "execution_count": null,
   "metadata": {},
   "outputs": [],
   "source": [
    "def analyze_survival_rate(df, feature):\n",
    "    survival_rate = df.groupby(feature)['Survived'].mean()\n",
    "    counts = df[feature].value_counts()\n",
    "    \n    plt.figure(figsize=(10, 5))\n",
    "    plt.subplot(1, 2, 1)\n",
    "    survival_rate.plot(kind='bar')\n",
    "    plt.title(f'Survival Rate by {feature}')\n",
    "    plt.ylabel('Survival Rate')\n",
    "    \n    plt.subplot(1, 2, 2)\n",
    "    counts.plot(kind='bar')\n",
    "    plt.title(f'Count of {feature}')\n",
    "    plt.ylabel('Count')\n",
    "    \n    plt.tight_layout()\n",
    "    plt.show()\n",
    "\n",
    "# 分析不同特徵的生存率\n",
    "features_to_analyze = ['Pclass', 'Sex', 'Embarked']\n",
    "for feature in features_to_analyze:\n",
    "    analyze_survival_rate(train_df, feature)"
   ]
  },
  {
   "cell_type": "code",
   "execution_count": null,
   "metadata": {},
   "outputs": [],
   "source": [
    "# 年齡分佈分析\n",
    "plt.figure(figsize=(15, 5))\n",
    "\n",
    "plt.subplot(1, 3, 1)\n",
    "sns.histplot(data=train_df, x='Age', hue='Survived', multiple=\"dodge\")\n",
    "plt.title('Age Distribution by Survival')\n",
    "\n",
    "plt.subplot(1, 3, 2)\n",
    "sns.boxplot(data=train_df, x='Pclass', y='Age')\n",
    "plt.title('Age Distribution by Class')\n",
    "\n",
    "plt.subplot(1, 3, 3)\n",
    "sns.boxplot(data=train_df, x='Sex', y='Age')\n",
    "plt.title('Age Distribution by Sex')\n",
    "\n",
    "plt.tight_layout()\n",
    "plt.show()"
   ]
  },
  {
   "cell_type": "code",
   "execution_count": null,
   "metadata": {},
   "outputs": [],
   "source": [
    "# 票價分析\n",
    "plt.figure(figsize=(15, 5))\n",
    "\n",
    "plt.subplot(1, 3, 1)\n",
    "sns.histplot(data=train_df, x='Fare', hue='Survived', multiple=\"dodge\")\n",
    "plt.title('Fare Distribution by Survival')\n",
    "\n",
    "plt.subplot(1, 3, 2)\n",
    "sns.boxplot(data=train_df, x='Pclass', y='Fare')\n",
    "plt.title('Fare Distribution by Class')\n",
    "\n",
    "plt.subplot(1, 3, 3)\n",
    "sns.boxplot(data=train_df, x='Embarked', y='Fare')\n",
    "plt.title('Fare Distribution by Embarked')\n",
    "\n",
    "plt.tight_layout()\n",
    "plt.show()"
   ]
  },
  {
   "cell_type": "code",
   "execution_count": null,
   "metadata": {},
   "outputs": [],
   "source": [
    "# 相關性分析\n",
    "numeric_features = ['Survived', 'Pclass', 'Age', 'SibSp', 'Parch', 'Fare']\n",
    "correlation = train_df[numeric_features].corr()\n",
    "\n",
    "plt.figure(figsize=(10, 8))\n",
    "sns.heatmap(correlation, annot=True, cmap='coolwarm', center=0)\n",
    "plt.title('Correlation Matrix')\n",
    "plt.show()"
   ]
  },
  {
   "cell_type": "markdown",
   "metadata": {},
   "source": [
    "## 3. 特徵工程"
   ]
  },
  {
   "cell_type": "code",
   "execution_count": null,
   "metadata": {},
   "outputs": [],
   "source": [
    "def preprocess_data(df, is_train=True):\n",
    "    # 創建數據副本\n",
    "    data = df.copy()\n",
    "    \n    # Title提取\n",
    "    data['Title'] = data['Name'].str.extract(' ([A-Za-z]+)\\.', expand=False)\n",
    "    \n    # Title分組\n",
    "    title_mapping = {\n",
    "        'Mr': 'Mr',\n",
    "        'Mrs': 'Mrs',\n",
    "        'Miss': 'Miss',\n",
    "        'Master': 'Master',\n",
    "        'Don': 'Rare',\n",
    "        'Rev': 'Rare',\n",
    "        'Dr': 'Rare',\n",
    "        'Mme': 'Mrs',\n",
    "        'Ms': 'Miss',\n",
    "        'Major': 'Rare',\n",
    "        'Lady': 'Rare',\n",
    "        'Sir': 'Rare',\n",
    "        'Mlle': 'Miss',\n",
    "        'Col': 'Rare',\n",
    "        'Capt': 'Rare',\n",
    "        'Countess': 'Rare',\n",
    "        'Jonkheer': 'Rare'\n",
    "    }\n",
    "    data['Title'] = data['Title'].map(title_mapping)\n",
    "    \n    # 處理缺失的年齡\n",
    "    age_by_title = data.groupby('Title')['Age'].median()\n",
    "    for title in data['Title'].unique():\n",
    "        age_null_mask = data['Age'].isnull() & (data['Title'] == title)\n",
    "        data.loc[age_null_mask, 'Age'] = age_by_title[title]\n",
    "    \n    # 創建年齡段\n",
    "    data['AgeBand'] = pd.cut(data['Age'], bins=[0, 12, 18, 35, 50, 80])\n",
    "    \n    # 家庭規模\n",
    "    data['FamilySize'] = data['SibSp'] + data['Parch'] + 1\n",
    "    data['IsAlone'] = (data['FamilySize'] == 1).astype(int)\n",
    "    \n    # 處理票價缺失值\n",
    "    if data['Fare'].isnull().any():\n",
    "        fare_median = data.groupby('Pclass')['Fare'].median()\n",
    "        for pclass in data['Pclass'].unique():\n",
    "            fare_null_mask = data['Fare'].isnull() & (data['Pclass'] == pclass)\n",
    "            data.loc[fare_null_mask, 'Fare'] = fare_median[pclass]\n",
    "    \n    # 票價分段\n",
    "    data['FareBand'] = pd.qcut(data['Fare'], 4)\n",
    "    \n    # 填充缺失的登船港口\n",
    "    data['Embarked'] = data['Embarked'].fillna('S')\n",
    "    \n    # 選擇特徵\n",
    "    features = ['Pclass', 'Sex', 'Age', 'Fare', 'Embarked', 'Title', \n",
    "                'FamilySize', 'IsAlone']\n",
    "    \n    # 轉換類別特徵\n",
    "    categorical_features = ['Sex', 'Embarked', 'Title']\n",
    "    for feature in categorical_features:\n",
    "        le = LabelEncoder()\n",
    "        data[feature] = le.fit_transform(data[feature])\n",
    "    \n    if is_train:\n",
    "        return data[features], data['Survived']\n",
    "    else:\n",
    "        return data[features]\n",
    "\n",
    "# 處理訓練和測試數據\n",
    "X_train, y_train = preprocess_data(train_df, is_train=True)\n",
    "X_test = preprocess_data(test_df, is_train=False)\n",
    "\n",
    "# 特徵縮放\n",
    "scaler = StandardScaler()\n",
    "X_train_scaled = scaler.fit_transform(X_train)\n",
    "X_test_scaled = scaler.transform(X_test)"
   ]
  },
  {
   "cell_type": "markdown",
   "metadata": {},
   "source": [
    "## 4. 模型訓練與評估"
   ]
  },
  {
   "cell_type": "code",
   "execution_count": null,
   "metadata": {},
   "outputs": [],
   "source": [
    "# 定義評估函數\n",
    "def evaluate_model(model, X, y, cv=5):\n",
    "    cv_scores = cross_val_score(model, X, y, cv=cv)\n",
    "    print(f\"交叉驗證分數: {cv_scores}\")\n",
    "    print(f\"平均分數: {cv_scores.mean():.4f} (+/- {cv_scores.std() * 2:.4f})\")\n",
    "\n",
    "# 訓練隨機森林\n",
    "rf = RandomForestClassifier(n_estimators=100, random_state=42)\n",
    "print(\"隨機森林評估結果:\")\n",
    "evaluate_model(rf, X_train_scaled, y_train)\n",
    "\n",
    "# 訓練XGBoost\n",
    "xgb_model = xgb.XGBClassifier(random_state=42)\n",
    "print(\"\\nXGBoost評估結果:\")\n",
    "evaluate_model(xgb_model, X_train_scaled, y_train)"
   ]
  },
  {
   "cell_type": "code",
   "execution_count": null,
   "metadata": {},
   "outputs": [],
   "source": [
    "# 特徵重要性分析\n",
    "rf.fit(X_train_scaled, y_train)\n",
    "\n",
    "feature_importance = pd.DataFrame({\n",
    "    'feature': X_train.columns,\n",
    "    'importance': rf.feature_importances_\n",
    "}).sort_values('importance', ascending=False)\n",
    "\n",
    "plt.figure(figsize=(10, 6))\n",
    "sns.barplot(x='importance', y='feature', data=feature_importance)\n",
    "plt.title('Feature Importance - Random Forest')\n",
    "plt.show()"
   ]
  },
  {
   "cell_type": "markdown",
   "metadata": {},
   "source": [
    "## 5. 模型優化"
   ]
  },
  {
   "cell_type": "code",
   "execution_count": null,
   "metadata": {},
   "outputs": [],
   "source": [
    "from sklearn.model_selection import GridSearchCV\n",
    "\n",
    "# 隨機森林參數優化\n",
    "param_grid = {\n",
    "    'n_estimators': [100, 200, 300],\n",
    "    'max_depth': [5, 10, None],\n",
    "    'min_samples_split': [2, 5, 10],\n",
    "    'min_samples_leaf': [1, 2, 4]\n",
    "}\n",
    "\n",
    "grid_search = GridSearchCV(RandomForestClassifier(random_state=42),\n",
    "                          param_grid=param_grid,\n",
    "                          cv=5,\n",
    "                          n_jobs=-1,\n",
    "                          verbose=1)\n",
    "\n",
    "grid_search.fit(X_train_scaled, y_train)\n",
    "\n",
    "print(\"最佳參數:\", grid_search.best_params_)\n",
    "print(\"最佳分數:\", grid_search.best_score_)\n",
    "\n",
    "# 使用最佳參數的模型\n",
    "best_rf = grid_search.best_estimator_"
   ]
  },
  {
   "cell_type": "code",
   "execution_count": null,
   "metadata": {},
   "outputs": [],
   "source": [
    "# XGBoost參數優化\n",
    "xgb_param_grid = {\n",
    "    'max_depth': [3, 5, 7],\n",
    "    'learning_rate': [0.01, 0.1, 0.3],\n",
    "    'n_estimators': [100, 200],\n",
    "    'subsample': [0.8, 0.9, 1.0]\n",
    "}\n",
    "\n",
    "xgb_grid_search = GridSearchCV(xgb.XGBClassifier(random_state=42),\n",
    "                              xgb_param_grid,\n",
    "                              cv=5,\n",
    "                              n_jobs=-1,\n",
    "                              verbose=1)\n",
    "\n",
    "xgb_grid_search.fit(X_train_scaled, y_train)\n",
    "\n",
    "print(\"XGBoost最佳參數:\", xgb_grid_search.best_params_)\n",
    "print(\"XGBoost最佳分數:\", xgb_grid_search.best_score_)\n",
    "\n",
    "best_xgb = xgb_grid_search.best_estimator_"
   ]
  },
  {
   "cell_type": "code",
   "execution_count": null,
   "metadata": {},
   "outputs": [],
   "source": [
    "# 集成預測\n",
    "rf_predictions = best_rf.predict_proba(X_test_scaled)[:, 1]\n",
    "xgb_predictions = best_xgb.predict_proba(X_test_scaled)[:, 1]\n",
    "\n",
    "# 加權平均\n",
    "final_predictions = (0.6 * rf_predictions + 0.4 * xgb_predictions > 0.5).astype(int)"
   ]
  },
  {
   "cell_type": "markdown",
   "metadata": {},
   "source": [
    "## 6. 結果提交"
   ]
  },
  {
   "cell_type": "code",
   "execution_count": null,
   "metadata": {},
   "outputs": [],
   "source": [
    "# 創建提交文件\n",
    "submission = pd.DataFrame({\n",
    "    'PassengerId': test_df['PassengerId'],\n",
    "    'Survived': final_predictions\n",
    "})\n",
    "\n",
    "# 保存結果\n",
    "submission.to_csv('submission.csv', index=False)\n",
    "print(\"提交文件已生成！\")\n",
    "\n",
    "# 查看預測結果分布\n",
    "print(\"\\n預測結果分布：\")\n",
    "print(submission['Survived'].value_counts(normalize=True))"
   ]
  },
  {
   "cell_type": "markdown",
   "metadata": {},
   "source": [
    "## 7. 總結與改進建議\n",
    "\n",
    "### 7.1 主要發現\n",
    "1. 性別、票價和艙位等級是最重要的預測特徵\n",
    "2. 家庭規模和年齡也提供了有用的信息\n",
    "3. 集成模型比單一模型表現更好\n",
    "\n",
    "### 7.2 可能的改進方向\n",
    "1. 特徵工程：\n",
    "   - 探索更多特徵組合\n",
    "   - 嘗試更複雜的特徵轉換\n",
    "   - 處理離群值\n",
    "\n",
    "2. 模型優化：\n",
    "   - 嘗試其他算法（如LightGBM、CatBoost）\n",
    "   - 更詳細的參數調優\n",
    "   - 使用更複雜的集成策略\n",
    "\n",
    "3. 驗證策略：\n",
    "   - 使用不同的交叉驗證方法\n",
    "   - 增加驗證指標\n",
    "   - 分析預測錯誤的案例\n",
    "\n",
    "### 7.3 經驗總結\n",
    "1. 詳細的EDA對理解數據至關重要\n",
    "2. 特徵工程是提升模型表現的關鍵\n",
    "3. 集成不同模型可以提高穩定性\n",
    "4. 交叉驗證有助於防止過擬合"
   ]
  }
 ],
 "metadata": {
  "kernelspec": {
   "display_name": "Python 3",
   "language": "python",
   "name": "python3"
  }
 },
 "nbformat": 4,
 "nbformat_minor": 4
}