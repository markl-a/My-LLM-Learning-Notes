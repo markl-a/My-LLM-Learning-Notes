{
 "cells": [
  {
   "cell_type": "markdown",
   "metadata": {},
   "source": [
    "# Kaggle_Competition_2.ipynb\n\n",
    "## 專案介紹\n\n",
    "本 Notebook 將示範在一個進階資料集（以 Kaggle 著名的房價預測資料集 Ames Housing Dataset 為例） 的建模過程，包括：\n",
    "1. 資料載入與前處理\n",
    "2. 特徵工程（缺失值處理、類別編碼、特徵縮放等）\n",
    "3. 建立基礎模型（線性迴歸、隨機森林、Gradient Boosting、XGBoost、LightGBM）\n",
    "4. 使用模型集成方法（Voting、Stacking）來提升預測準確度\n",
    "5. 模型評估與比較\n\n",
    "此範例使用的資料為 Ames Housing Dataset，\n",
    "若您使用 Kaggle Kernel，可以直接透過 datasets 取得資料或透過 Kaggle API 下載。\n",
    "若在本地端，請事先下載 Ames Housing 資料集，並放置於合適位置。\n\n",
    "Ames Housing Dataset 參考: https://www.kaggle.com/c/house-prices-advanced-regression-techniques\n\n",
    "請確保您已經安裝必要的套件:\n",
    "```bash\n",
    "!pip install numpy pandas scikit-learn xgboost lightgbm\n",
    "```"
   ]
  },
  {
   "cell_type": "code",
   "metadata": {
    "collapsed": false
   },
   "source": [
    "import numpy as np\n",
    "import pandas as pd\n",
    "import matplotlib.pyplot as plt\n",
    "import seaborn as sns\n",
    "from sklearn.linear_model import Ridge, Lasso, ElasticNet, LinearRegression\n",
    "from sklearn.ensemble import RandomForestRegressor, GradientBoostingRegressor, VotingRegressor\n",
    "from sklearn.preprocessing import LabelEncoder, OneHotEncoder, StandardScaler\n",
    "from sklearn.model_selection import train_test_split, cross_val_score, GridSearchCV\n",
    "from sklearn.metrics import mean_squared_error\n",
    "import xgboost as xgb\n",
    "import lightgbm as lgb\n",
    "import warnings\n",
    "warnings.filterwarnings(\"ignore\", category=FutureWarning)\n",
    "warnings.filterwarnings(\"ignore\", category=UserWarning)\n",
    "plt.style.use('seaborn')\n"
   ],
   "execution_count": null,
   "outputs": []
  },
  {
   "cell_type": "markdown",
   "metadata": {},
   "source": [
    "### 資料讀取\n",
    "假設檔案已經放在 `./data` 資料夾中，\n",
    "檔案名稱為 `train.csv`, `test.csv` (與 Kaggle House Prices 資料集一致)。"
   ]
  },
  {
   "cell_type": "code",
   "metadata": {},
   "source": [
    "train = pd.read_csv('./data/train.csv')\n",
    "test = pd.read_csv('./data/test.csv')"
   ],
   "execution_count": null,
   "outputs": []
  },
  {
   "cell_type": "markdown",
   "metadata": {},
   "source": [
    "### 資料探索 (EDA)"
   ]
  },
  {
   "cell_type": "code",
   "metadata": {},
   "source": [
    "print(\"Train 資料集維度:\", train.shape)\n",
    "print(\"Test 資料集維度:\", test.shape)\n",
    "print(train['SalePrice'].describe())\n\n",
    "# SalePrice取log處理\n",
    "train['SalePrice'] = np.log1p(train['SalePrice'])"
   ],
   "execution_count": null,
   "outputs": []
  },
  {
   "cell_type": "markdown",
   "metadata": {},
   "source": [
    "### 特徵工程\n",
    "合併 train 與 test（除了目標值），以便一致的特徵工程處理。"
   ]
  },
  {
   "cell_type": "code",
   "metadata": {},
   "source": [
    "train_ID = train['Id']\n",
    "test_ID = test['Id']\n\n",
    "y = train['SalePrice'].copy()\n",
    "train.drop(['SalePrice','Id'], axis=1, inplace=True)\n",
    "test.drop(['Id'], axis=1, inplace=True)\n\n",
    "all_data = pd.concat([train, test], axis=0)"
   ],
   "execution_count": null,
   "outputs": []
  },
  {
   "cell_type": "code",
   "metadata": {},
   "source": [
    "missing = all_data.isnull().sum()\n",
    "missing = missing[missing > 0].sort_values(ascending=False)\n",
    "print(\"缺失值概況:\")\n",
    "print(missing)"
   ],
   "execution_count": null,
   "outputs": []
  },
  {
   "cell_type": "markdown",
   "metadata": {},
   "source": [
    "針對缺失值進行填補（根據Kaggle討論區常見做法）。"
   ]
  },
  {
   "cell_type": "code",
   "metadata": {},
   "source": [
    "for col in ('PoolQC','MiscFeature','Alley','Fence','FireplaceQu','GarageFinish','GarageQual','GarageCond','GarageType','BsmtExposure','BsmtCond','BsmtQual','BsmtFinType1','BsmtFinType2','MasVnrType'):\n",
    "    all_data[col] = all_data[col].fillna('None')\n\n",
    "for col in ('GarageYrBlt','GarageArea','GarageCars','BsmtFullBath','BsmtHalfBath','BsmtFinSF1','BsmtFinSF2','BsmtUnfSF','TotalBsmtSF','MasVnrArea'):\n",
    "    all_data[col] = all_data[col].fillna(0)\n\n",
    "# LotFrontage以Neighborhood中位數填補\n",
    "all_data['LotFrontage'] = all_data.groupby('Neighborhood')['LotFrontage'].transform(lambda x: x.fillna(x.median()))\n\n",
    "for col in ['MSZoning','Electrical','KitchenQual','Exterior1st','Exterior2nd','Functional','SaleType','Utilities']:\n",
    "    all_data[col] = all_data[col].fillna(all_data[col].mode()[0])\n\n",
    "# 新增衍生特徵\n",
    "all_data['TotalSF'] = all_data['TotalBsmtSF'] + all_data['1stFlrSF'] + all_data['2ndFlrSF']"
   ],
   "execution_count": null,
   "outputs": []
  },
  {
   "cell_type": "markdown",
   "metadata": {},
   "source": [
    "Label Encoding 部分具備順序關係的特徵。"
   ]
  },
  {
   "cell_type": "code",
   "metadata": {},
   "source": [
    "cols_to_label_encode = (\n",
    "    'FireplaceQu','BsmtQual','BsmtCond','GarageQual','GarageCond',\n",
    "    'ExterQual','ExterCond','HeatingQC','PoolQC','KitchenQual','BsmtFinType1',\n",
    "    'BsmtFinType2','Functional','Fence','BsmtExposure','GarageFinish','LandSlope',\n",
    "    'LotShape','PavedDrive','Street','Alley','CentralAir','MasVnrType','MiscFeature','SaleType','SaleCondition'\n",
    ")\n\n",
    "for c in cols_to_label_encode:\n",
    "    lbl = LabelEncoder() \n",
    "    all_data[c] = lbl.fit_transform(all_data[c].astype(str))\n\n",
    "# 剩餘類別特徵 One-Hot Encoding\n",
    "all_data = pd.get_dummies(all_data, drop_first=True)"
   ],
   "execution_count": null,
   "outputs": []
  },
  {
   "cell_type": "markdown",
   "metadata": {},
   "source": [
    "分離回 Train/Test 資料，並對數值做縮放。"
   ]
  },
  {
   "cell_type": "code",
   "metadata": {},
   "source": [
    "X = all_data.iloc[:len(y), :]\n",
    "X_test = all_data.iloc[len(y):, :]\n\n",
    "from sklearn.preprocessing import StandardScaler\n",
    "scaler = StandardScaler()\n",
    "X = scaler.fit_transform(X)\n",
    "X_test = scaler.transform(X_test)\n\n",
    "X_train, X_valid, y_train, y_valid = train_test_split(X, y, test_size=0.2, random_state=42)"
   ],
   "execution_count": null,
   "outputs": []
  },
  {
   "cell_type": "markdown",
   "metadata": {},
   "source": [
    "### 模型訓練與比較"
   ]
  },
  {
   "cell_type": "code",
   "metadata": {},
   "source": [
    "# LinearRegression\n",
    "lr = LinearRegression()\n",
    "lr.fit(X_train, y_train)\n",
    "y_pred_lr = lr.predict(X_valid)\n",
    "print(\"LinearRegression RMSE:\", np.sqrt(mean_squared_error(y_valid, y_pred_lr)))\n\n",
    "# Ridge\n",
    "ridge = Ridge(alpha=10)\n",
    "ridge.fit(X_train, y_train)\n",
    "y_pred_ridge = ridge.predict(X_valid)\n",
    "print(\"Ridge RMSE:\", np.sqrt(mean_squared_error(y_valid, y_pred_ridge)))\n\n",
    "# Lasso\n",
    "lasso = Lasso(alpha=0.001)\n",
    "lasso.fit(X_train, y_train)\n",
    "y_pred_lasso = lasso.predict(X_valid)\n",
    "print(\"Lasso RMSE:\", np.sqrt(mean_squared_error(y_valid, y_pred_lasso)))\n\n",
    "# RandomForest\n",
    "rf = RandomForestRegressor(n_estimators=300, random_state=42)\n",
    "rf.fit(X_train, y_train)\n",
    "y_pred_rf = rf.predict(X_valid)\n",
    "print(\"RandomForest RMSE:\", np.sqrt(mean_squared_error(y_valid, y_pred_rf)))\n\n",
    "# GradientBoosting\n",
    "gbr = GradientBoostingRegressor(n_estimators=300, random_state=42)\n",
    "gbr.fit(X_train, y_train)\n",
    "y_pred_gbr = gbr.predict(X_valid)\n",
    "print(\"GradientBoosting RMSE:\", np.sqrt(mean_squared_error(y_valid, y_pred_gbr)))\n\n",
    "# XGBoost\n",
    "xgbr = xgb.XGBRegressor(n_estimators=1000, learning_rate=0.05, random_state=42)\n",
    "xgbr.fit(X_train, y_train, early_stopping_rounds=50, eval_set=[(X_valid, y_valid)], verbose=False)\n",
    "y_pred_xgbr = xgbr.predict(X_valid)\n",
    "print(\"XGBoost RMSE:\", np.sqrt(mean_squared_error(y_valid, y_pred_xgbr)))\n\n",
    "# LightGBM\n",
    "lgbr = lgb.LGBMRegressor(n_estimators=1000, learning_rate=0.05, random_state=42)\n",
    "lgbr.fit(X_train, y_train, eval_set=[(X_valid, y_valid)], early_stopping_rounds=50, verbose=False)\n",
    "y_pred_lgbr = lgbr.predict(X_valid)\n",
    "print(\"LightGBM RMSE:\", np.sqrt(mean_squared_error(y_valid, y_pred_lgbr)))"
   ],
   "execution_count": null,
   "outputs": []
  },
  {
   "cell_type": "markdown",
   "metadata": {},
   "source": [
    "### 模型集成 (Ensemble)"
   ]
  },
  {
   "cell_type": "code",
   "metadata": {},
   "source": [
    "# Voting Ensemble\n",
    "voting_reg = VotingRegressor(estimators=[\n",
    "    ('ridge', ridge), \n",
    "    ('lasso', lasso), \n",
    "    ('rf', rf), \n",
    "    ('gbr', gbr), \n",
    "    ('xgbr', xgbr), \n",
    "    ('lgbr', lgbr)\n",
    "])\n",
    "voting_reg.fit(X_train, y_train)\n",
    "y_pred_voting = voting_reg.predict(X_valid)\n",
    "print(\"VotingRegressor RMSE:\", np.sqrt(mean_squared_error(y_valid, y_pred_voting)))\n\n",
    "# Stacking Ensemble\n",
    "from sklearn.ensemble import StackingRegressor\n",
    "stacking_reg = StackingRegressor(\n",
    "    estimators=[\n",
    "        ('ridge', ridge),\n",
    "        ('lasso', lasso),\n",
    "        ('rf', rf),\n",
    "        ('gbr', gbr),\n",
    "        ('xgbr', xgbr),\n",
    "        ('lgbr', lgbr)\n",
    "    ],\n",
    "    final_estimator=Ridge(alpha=10),\n",
    "    passthrough=False\n",
    ")\n",
    "stacking_reg.fit(X_train, y_train)\n",
    "y_pred_stacking = stacking_reg.predict(X_valid)\n",
    "print(\"StackingRegressor RMSE:\", np.sqrt(mean_squared_error(y_valid, y_pred_stacking)))"
   ],
   "execution_count": null,
   "outputs": []
  },
  {
   "cell_type": "markdown",
   "metadata": {},
   "source": [
    "### 最終預測與輸出\n",
    "選擇表現最佳的模型（本例中以 Stacking Ensemble 為例），對測試集做預測並輸出。"
   ]
  },
  {
   "cell_type": "code",
   "metadata": {},
   "source": [
    "final_pred = stacking_reg.predict(X_test)\n",
    "final_pred = np.expm1(final_pred)\n\n",
    "submission = pd.DataFrame({\n",
    "    'Id': test_ID,\n",
    "    'SalePrice': final_pred\n",
    "})\n",
    "submission.to_csv('submission.csv', index=False)\n",
    "print(\"Done! 'submission.csv' 已輸出，可上傳至Kaggle進行評估。\")"
   ],
   "execution_count": null,
   "outputs": []
  }
 ],
 "metadata": {
  "kernelspec": {
   "display_name": "Python 3",
   "name": "python3"
  },
  "language_info": {
   "name": "python"
  }
 },
 "nbformat": 4,
 "nbformat_minor": 5
}
