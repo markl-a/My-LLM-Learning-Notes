{
 "cells": [
  {
   "cell_type": "markdown",
   "metadata": {},
   "source": [
    "# 0_Introduction_and_Environment_Setup\n",
    "\n",
    "歡迎來到 `0_Introduction_and_Environment_Setup`！\n",
    "\n",
    "本 Notebook 將說明此資料夾的內容架構以及接下來的學習路徑，同時也示範在 Colab 環境下如何安裝並測試基本的 Python 資料分析與機器學習套件。"
   ]
  },
  {
   "cell_type": "markdown",
   "metadata": {},
   "source": [
    "## 資料夾內容架構的簡介與學習路徑說明\n",
    "\n",
    "在後續的資料夾中，我們將引導您從基本的資料分析與傳統機器學習，延伸到深度學習（包括電腦視覺、NLP）、再到 MLOps 與模型部署的完整流程。\n",
    "\n",
    "典型學習路徑可能如下：\n",
    "1. **基礎環境準備與工具熟悉** (本節內容)\n",
    "2. **1_ML_and_Data_Analysis/**：學習傳統機器學習演算法、特徵工程、EDA、Kaggle案例練習，以及初探分散式運算與大數據處理流程\n",
    "3. **DL/**：進入深度學習領域，區分電腦視覺 (CV) 與 NLP & 語音領域，包含基本理論、實務範例，與經典/最新研究論文摘要\n",
    "4. **3_MLOps_and_Deployment/**：探索 MLOps 概念、CI/CD、MLflow、Kubeflow、Airflow、自動化管線、模型漂移監測、容器化、多雲部署等實務\n",
    "\n",
    "在此學習過程中，您將漸進式地掌握從資料前處理、模型訓練與評估，到持續整合、部署、監控與維運的全套流程。"
   ]
  },
  {
   "cell_type": "markdown",
   "metadata": {},
   "source": [
    "## 環境設定指南\n",
    "\n",
    "在本 Notebook 中，我們已經在 Colab 環境下，有預裝的 Python 以及常見的科學計算套件。您可以利用以下步驟來確認與安裝必要套件。\n",
    "\n",
    "### 1. Python 與套件版本確認\n",
    "\n",
    "Colab 預設使用 Python 3 並內建大部分基礎套件，如 NumPy、Pandas、Matplotlib、scikit-learn。"
   ]
  },
  {
   "cell_type": "code",
   "execution_count": null,
   "metadata": {},
   "outputs": [],
   "source": [
    "import sys\n",
    "import numpy as np\n",
    "import pandas as pd\n",
    "import matplotlib.pyplot as plt\n",
    "import sklearn\n",
    "\n",
    "print('Python version:', sys.version)\n",
    "print('NumPy version:', np.__version__)\n",
    "print('Pandas version:', pd.__version__)\n",
    "print('Scikit-learn version:', sklearn.__version__)"
   ]
  },
  {
   "cell_type": "markdown",
   "metadata": {},
   "source": [
    "若您需要特定版本的套件或其他套件（例如深度學習框架，如 PyTorch、TensorFlow），可使用 `pip install`。\n",
    "\n",
    "### 2. 虛擬環境與 Conda\n",
    "\n",
    "在 Colab 中不適合直接使用 Conda 建立虛擬環境，但在本地環境下您可透過:\n",
    "```bash\n",
    "conda create -n my_env python=3.9\n",
    "conda activate my_env\n",
    "conda install numpy pandas matplotlib scikit-learn jupyter\n",
    "```\n",
    "完成環境創建與套件安裝。\n",
    "\n",
    "在 Colab 環境下，一般無需 Conda，直接使用 `pip` 安裝套件即可。"
   ]
  },
  {
   "cell_type": "markdown",
   "metadata": {},
   "source": [
    "### 3. 資料庫連接（選用）\n",
    "\n",
    "如果您有需要連接 SQL 資料庫或其他資料來源，可安裝相應套件。例如：\n",
    "```bash\n",
    "!pip install sqlalchemy psycopg2-binary\n",
    "```\n",
    "然後使用 Python 的 `sqlalchemy` 等工具進行資料庫連線與查詢。\n",
    "\n",
    "在 Colab 中，您也可以透過掛載 Google Drive、存取雲端資料，或透過 API 取得資料集。"
   ]
  },
  {
   "cell_type": "markdown",
   "metadata": {},
   "source": [
    "### 4. 測試環境\n",
    "\n",
    "以下簡單測試 Pandas 與 Matplotlib 功能：讀取一個虛擬 DataFrame 並繪圖。"
   ]
  },
  {
   "cell_type": "code",
   "execution_count": null,
   "metadata": {},
   "outputs": [],
   "source": [
    "import pandas as pd\n",
    "import numpy as np\n",
    "import matplotlib.pyplot as plt\n",
    "%matplotlib inline\n",
    "\n",
    "# 建立簡單的 DataFrame\n",
    "df = pd.DataFrame({\n",
    "    'x': np.linspace(0, 10, 100),\n",
    "    'y': np.sin(np.linspace(0, 10, 100))\n",
    "})\n",
    "\n",
    "df.plot(x='x', y='y', title='Sin Wave')\n",
    "plt.show()"
   ]
  },
  {
   "cell_type": "markdown",
   "metadata": {},
   "source": [
    "若成功出現一張正弦波圖，表示您的環境運作正常。"
   ]
  },
  {
   "cell_type": "markdown",
   "metadata": {},
   "source": [
    "## 下一步\n",
    "\n",
    "透過本章節，您已了解整個學習專案的架構與後續學習的方向，並在 Colab 上建立並測試了基本環境。\n",
    "\n",
    "接下來您可以:\n",
    "- 前往 `1_ML_and_Data_Analysis/` 學習傳統機器學習演算法、特徵工程與 EDA。\n",
    "- 或是直接進入 `DL/` 探索深度學習的理論與實務。\n",
    "\n",
    "請依據您的背景與需求，調整學習順序與進度。在此之前，恭喜您已完成基本環境設置與前置知識準備！"
   ]
  }
 ],
 "metadata": {
  "colab": {
   "name": "0_Introduction_and_Environment_Setup.ipynb",
   "provenance": []
  },
  "kernelspec": {
   "display_name": "Python 3"
  }
 },
 "nbformat": 4,
 "nbformat_minor": 5
}
