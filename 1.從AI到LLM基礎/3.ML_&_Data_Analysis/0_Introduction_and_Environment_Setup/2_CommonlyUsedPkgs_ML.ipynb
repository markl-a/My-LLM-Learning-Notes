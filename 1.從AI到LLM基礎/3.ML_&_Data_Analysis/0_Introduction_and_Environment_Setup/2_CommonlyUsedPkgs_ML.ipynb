{
 "cells": [
  {
   "cell_type": "markdown",
   "metadata": {},
   "source": [
    "# 常用套件介紹與實作範例\n",
    "\n",
    "本 Notebook 將介紹機器學習與資料分析中最常使用的一些 Python 套件，包括：\n",
    "\n",
    "- **NumPy**：科學計算基礎工具，提供高效能的 n 維陣列、向量化運算、數學函數\n",
    "- **Pandas**：資料處理與分析利器，以 DataFrame 資料結構為核心，有豐富的資料清洗、轉換與聚合功能\n",
    "- **Matplotlib**：繪圖與資料視覺化基礎套件，可產生折線圖、直方圖、散佈圖等多種圖表\n",
    "- **Scikit-learn**：機器學習中最常用的套件之一，包含各種分類、回歸、分群演算法，以及特徵工程、模型評估工具\n",
    "- **Spark (PySpark)**：分散式運算與大數據處理框架，透過 RDD、DataFrame API 快速處理大型資料集，並有 MLlib 提供基本的機器學習功能\n",
    "\n",
    "本 Notebook 將透過簡單範例示範這些套件的基本功能與常用技巧，完成後您將對其有基本掌握並能在未來專案中熟練運用。"
   ]
  },
  {
   "cell_type": "markdown",
   "metadata": {},
   "source": [
    "## 1. NumPy\n",
    "\n",
    "NumPy 提供高效的 n 維陣列（`ndarray`），並支援向量化運算。許多科學計算與機器學習套件的底層都仰賴 NumPy。\n",
    "\n",
    "### NumPy 常用功能\n",
    "- 建立陣列：`np.array()`, `np.zeros()`, `np.ones()`, `np.arange()`, `np.linspace()`\n",
    "- 形狀操作：`reshape`, `ravel`, `transpose`\n",
    "- 基本運算：向量化加減乘除、矩陣乘法 `@`、統計函數 `mean`, `sum`, `std`, `max`, `min`\n",
    "- 高級索引與切片\n"
   ]
  },
  {
   "cell_type": "code",
   "metadata": {},
   "source": [
    "import numpy as np\n",
    "\n",
    "# 建立陣列\n",
    "a = np.array([1, 2, 3])\n",
    "b = np.zeros((2, 3))\n",
    "c = np.arange(0, 10, 2)\n",
    "\n",
    "print(\"a =\", a)\n",
    "print(\"b =\\n\", b)\n",
    "print(\"c =\", c)\n",
    "\n",
    "# 形狀操作\n",
    "d = np.arange(12).reshape(3,4)\n",
    "print(\"d =\\n\", d)\n",
    "\n",
    "# 基本運算\n",
    "print(\"d 的平均值:\", d.mean())\n",
    "print(\"d 的行相加:\", d.sum(axis=0))"
   ],
   "execution_count": null,
   "outputs": []
  },
  {
   "cell_type": "markdown",
   "metadata": {},
   "source": [
    "## 2. Pandas\n",
    "\n",
    "Pandas 是資料分析必備套件，透過 DataFrame 結構提供直覺的資料操作。Pandas 常用於：\n",
    "- 讀寫檔案（CSV、Excel、SQL）\n",
    "- 資料清洗（處理缺失值、重塑資料表格、合併與連接）\n",
    "- 資料聚合與群組運算（groupby）\n",
    "- 資料切片與篩選\n"
   ]
  },
  {
   "cell_type": "code",
   "metadata": {},
   "source": [
    "import pandas as pd\n",
    "\n",
    "# 建立 DataFrame\n",
    "df = pd.DataFrame({\n",
    "    'Name': ['Alice', 'Bob', 'Charlie', 'David', 'Eve'],\n",
    "    'Age': [24, 30, 35, 40, 29],\n",
    "    'City': ['NY', 'SF', 'NY', 'LA', 'SF'],\n",
    "    'Salary': [50000, 60000, 70000, 80000, 65000]\n",
    "})\n",
    "\n",
    "print(\"DataFrame:\")\n",
    "print(df)\n",
    "\n",
    "# 基本資料概覽\n",
    "print(\"\\n資料描述:\")\n",
    "print(df.describe())\n",
    "\n",
    "# 篩選與切片\n",
    "print(\"\\n篩選 Age > 30:\")\n",
    "print(df[df['Age'] > 30])\n",
    "\n",
    "# groupby 聚合\n",
    "print(\"\\n以 City 分組，計算 Salary 平均值:\")\n",
    "print(df.groupby('City')['Salary'].mean())"
   ],
   "execution_count": null,
   "outputs": []
  },
  {
   "cell_type": "markdown",
   "metadata": {},
   "source": [
    "Pandas 也能輕鬆讀取 CSV 等資料檔案：\n",
    "\n",
    "```python\n",
    "df_csv = pd.read_csv('data.csv')  # 若有 data.csv 檔案\n",
    "```\n",
    "\n",
    "並進行資料清洗與轉換：\n",
    "\n",
    "```python\n",
    "df['NewCol'] = df['Salary'] * 1.1  # 增加新欄位\n",
    "df.dropna()  # 移除缺失值列\n",
    "df.fillna(df.mean())  # 用平均值填補缺失值\n",
    "```"
   ]
  },
  {
   "cell_type": "markdown",
   "metadata": {},
   "source": [
    "## 3. Matplotlib\n",
    "\n",
    "Matplotlib 是基本繪圖套件，能快速產生各種圖表，以理解資料分佈與模型結果。\n",
    "\n",
    "常用繪圖類型:\n",
    "- Line Plot (折線圖)\n",
    "- Scatter Plot (散佈圖)\n",
    "- Histogram (直方圖)\n",
    "- Bar Plot (長條圖)\n",
    "- Pie Chart (圓餅圖)\n",
    "\n",
    "透過 `%matplotlib inline` (在 Jupyter 中) 或 `%matplotlib inline` 設定可直接在 Notebook 中顯示圖表。"
   ]
  },
  {
   "cell_type": "code",
   "metadata": {},
   "source": [
    "%matplotlib inline\n",
    "import matplotlib.pyplot as plt\n",
    "\n",
    "# 基本折線圖\n",
    "x = np.linspace(0, 10, 100)\n",
    "y = np.sin(x)\n",
    "\n",
    "plt.figure(figsize=(8,5))\n",
    "plt.plot(x, y, label='sin wave', color='blue')\n",
    "plt.title('Sin Wave')\n",
    "plt.xlabel('X')\n",
    "plt.ylabel('sin(X)')\n",
    "plt.legend()\n",
    "plt.grid(True)\n",
    "plt.show()"
   ],
   "execution_count": null,
   "outputs": []
  },
  {
   "cell_type": "markdown",
   "metadata": {},
   "source": [
    "也可利用 Pandas 的 DataFrame 搭配 plot 方法簡化繪圖流程：\n",
    "\n",
    "```python\n",
    "df.plot(x='Age', y='Salary', kind='scatter', title='Age vs Salary')\n",
    "plt.show()\n",
    "```"
   ]
  },
  {
   "cell_type": "markdown",
   "metadata": {},
   "source": [
    "## 4. Scikit-learn\n",
    "\n",
    "Scikit-learn 是機器學習中最常使用的套件之一。它包含：\n",
    "- 各種 ML 模型（分類：LogisticRegression、SVC；回歸：LinearRegression；分群：KMeans；降維：PCA 等）\n",
    "- 特徵工程（StandardScaler、MinMaxScaler、OneHotEncoder）\n",
    "- 模型評估（train_test_split、cross_val_score、metrics 下的 accuracy_score、f1_score 等）\n",
    "- Pipeline 機制將特徵轉換與建模串接\n"
   ]
  },
  {
   "cell_type": "code",
   "metadata": {},
   "source": [
    "from sklearn.model_selection import train_test_split\n",
    "from sklearn.linear_model import LogisticRegression\n",
    "from sklearn.metrics import accuracy_score\n",
    "\n",
    "# 假設我們有一些簡單的人造資料，用於分類\n",
    "X = df[['Age', 'Salary']].values  # 特徵\n",
    "y = (df['City'] == 'NY').astype(int).values  # 標籤: NY=1, 其他=0\n",
    "\n",
    "X_train, X_test, y_train, y_test = train_test_split(X, y, test_size=0.3, random_state=42)\n",
    "\n",
    "# 使用 LogisticRegression\n",
    "model = LogisticRegression()\n",
    "model.fit(X_train, y_train)\n",
    "\n",
    "y_pred = model.predict(X_test)\n",
    "print(\"Accuracy:\", accuracy_score(y_test, y_pred))"
   ],
   "execution_count": null,
   "outputs": []
  },
  {
   "cell_type": "markdown",
   "metadata": {},
   "source": [
    "上述只是 Scikit-learn 功能的冰山一角。您可以嘗試其他模型，如 SVC、RandomForestClassifier、KMeans 分群、PCA 降維等等。\n",
    "\n",
    "特徵工程範例:\n",
    "```python\n",
    "from sklearn.preprocessing import StandardScaler\n",
    "scaler = StandardScaler()\n",
    "X_scaled = scaler.fit_transform(X)\n",
    "```\n",
    "\n",
    "Pipeline 範例:\n",
    "```python\n",
    "from sklearn.pipeline import Pipeline\n",
    "pipe = Pipeline([\n",
    "    ('scaler', StandardScaler()),\n",
    "    ('clf', LogisticRegression())\n",
    "])\n",
    "pipe.fit(X_train, y_train)\n",
    "```"
   ]
  },
  {
   "cell_type": "markdown",
   "metadata": {},
   "source": [
    "## 5. Spark (PySpark)\n",
    "\n",
    "當資料量龐大或需要分散式計算時，Apache Spark 是常用的解決方案。PySpark 是 Spark 的 Python API，提供：\n",
    "- Spark DataFrame：類似 Pandas 的 DataFrame，但可在叢集上分散儲存與處理\n",
    "- 分散式計算：透過 Transformation 與 Action 在多節點上運行\n",
    "- Spark MLlib：提供基本的 ML 模型與轉換器，能在大型資料集上進行機器學習訓練\n",
    "\n",
    "注意：在 Notebook 或本地開發環境中使用 PySpark 需要安裝 Spark 並啟動對應服務。Colab 中可透過安裝與環境設定達成，此處範例以小規模示範為主。"
   ]
  },
  {
   "cell_type": "code",
   "metadata": {},
   "source": [
    "# 若在 colab 執行，需事先安裝 pyspark\n",
    "!pip install pyspark"
   ],
   "execution_count": null,
   "outputs": []
  },
  {
   "cell_type": "code",
   "metadata": {},
   "source": [
    "from pyspark.sql import SparkSession\n",
    "\n",
    "# 建立 SparkSession\n",
    "spark = SparkSession.builder.master(\"local[*]\").appName(\"SparkExample\").getOrCreate()\n",
    "\n",
    "# 建立 Spark DataFrame\n",
    "data = [(\"Alice\", 24), (\"Bob\", 30), (\"Charlie\", 35)]\n",
    "columns = [\"Name\", \"Age\"]\n",
    "spark_df = spark.createDataFrame(data, columns)\n",
    "\n",
    "spark_df.show()\n",
    "\n",
    "# Spark DataFrame 的操作\n",
    "spark_df.filter(spark_df.Age > 25).show()\n",
    "\n",
    "# 使用 Spark SQL\n",
    "spark_df.createOrReplaceTempView(\"people\")\n",
    "sql_result = spark.sql(\"SELECT Name, Age FROM people WHERE Age > 25\")\n",
    "sql_result.show()\n",
    "\n",
    "# 結束 Spark Session\n",
    "spark.stop()"
   ],
   "execution_count": null,
   "outputs": []
  },
  {
   "cell_type": "markdown",
   "metadata": {},
   "source": [
    "在實務中，PySpark 可以用於處理 TB 級數據，透過 DataFrame API 或 SQL Query 進行數據轉換，並利用 MLlib 進行機器學習任務。\n",
    "\n",
    "範例（MLlib）：\n",
    "```python\n",
    "from pyspark.ml.feature import VectorAssembler\n",
    "from pyspark.ml.classification import LogisticRegression\n",
    "\n",
    "# 假設已讀入大型 DataFrame spark_df，並有 features 與 label 欄位\n",
    "# VectorAssembler 將多欄位組合成特徵向量\n",
    "assembler = VectorAssembler(inputCols=[\"Age\"], outputCol=\"features\")\n",
    "train_data = assembler.transform(spark_df)\n",
    "\n",
    "lr = LogisticRegression(featuresCol='features', labelCol='label')\n",
    "# lr.fit(train_data) # 訓練模型\n",
    "```\n"
   ]
  },
  {
   "cell_type": "markdown",
   "metadata": {},
   "source": [
    "# 總結\n",
    "\n",
    "透過此 Notebook，我們已經介紹了五大常用套件：\n",
    "- **NumPy**：高效 N 維陣列與數學運算\n",
    "- **Pandas**：靈活強大的資料處理與分析\n",
    "- **Matplotlib**：資料視覺化的基礎繪圖工具\n",
    "- **Scikit-learn**：機器學習建模與評估的入門套件\n",
    "- **PySpark**：面對大數據的分散式運算與 ML 能力\n",
    "\n",
    "掌握這些套件後，您已具備應對多數資料分析與機器學習工作流程的能力。未來可根據專案需求更深入探索各套件的進階功能與最佳實踐。"
   ]
  }
 ],
 "metadata": {
  "colab": {
   "name": "common_libraries_intro.ipynb",
   "provenance": []
  },
  "kernelspec": {
   "display_name": "Python 3"
  }
 },
 "nbformat": 4,
 "nbformat_minor": 5
}